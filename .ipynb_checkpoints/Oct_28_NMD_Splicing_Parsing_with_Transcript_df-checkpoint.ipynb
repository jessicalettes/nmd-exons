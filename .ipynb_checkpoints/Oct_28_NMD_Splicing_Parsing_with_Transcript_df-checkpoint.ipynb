{
 "cells": [
  {
   "cell_type": "code",
   "execution_count": 6,
   "metadata": {
    "collapsed": true
   },
   "outputs": [],
   "source": [
    "#imports\n",
    "#for gffutils database\n",
    "import gffutils\n",
    "\n",
    "#for pandas data frame\n",
    "import pandas as pd\n",
    "\n",
    "#outrigger\n",
    "from outrigger.io.gtf import create_db"
   ]
  },
  {
   "cell_type": "code",
   "execution_count": 2,
   "metadata": {
    "collapsed": true
   },
   "outputs": [],
   "source": [
    "# db = create_db(\"/Users/rhythmicstar/projects/exon_evolution//gencode.v19.annotation.gtf\", \n",
    "#                \"/Users/rhythmicstar/projects/exon_evolution//gencode.v19.annotation.outrigger.gtf.db\")"
   ]
  },
  {
   "cell_type": "markdown",
   "metadata": {},
   "source": [
    "Make df with splicing data"
   ]
  },
  {
   "cell_type": "code",
   "execution_count": 3,
   "metadata": {
    "collapsed": true
   },
   "outputs": [],
   "source": [
    "def possible_nmd(database, nmd_file):    \n",
    "    splicing_data = pd.read_csv(nmd_file, header=None, sep='\\s+')\n",
    "    index = pd.Index(splicing_data[3])\n",
    "    event_ids = pd.Series(index, name='event_id')\n",
    "    event_ids_df = event_ids.to_frame()\n",
    "    event_ids_df['isoform1'] = splicing_data[3].map(lambda x: x.split('|')[0].split('junction:')[1][:-2])\n",
    "    event_ids_df['isoform2'] = splicing_data[3].map(lambda x: x.split('isoform2=junction:')[1].split('@')[0][:-2])\n",
    "    event_ids_df['exon'] = splicing_data[3].map(lambda x: x.split('exon:')[1].split('@')[0][:-2])\n",
    "    event_ids_df['junction'] = splicing_data[3].map(lambda x: x.split('@junction:')[1].split(' ')[0][:-2])\n",
    "    event_ids_df['strand'] = splicing_data[5].map(lambda x: x)\n",
    "    event_ids_df['type'] = ''\n",
    "    event_ids_df['inclusion_nmd'] = ''\n",
    "    event_ids_df['exclusion_nmd'] = ''\n",
    "    event_ids_df = event_ids_df[['isoform1', 'isoform2', 'exon', 'junction', 'strand', 'type', 'inclusion_nmd', 'exclusion_nmd']]\n",
    "\n",
    "    #NMD from exon inclusion\n",
    "    pos_str = pd.DataFrame([['', '', 'chr3:186506099-186506205', '', '+', 'inclusion', '', '']], columns=list(['isoform1','isoform2','exon', 'junction', 'strand', 'type','inclusion_nmd', 'exclusion_nmd']))\n",
    "    neg_str = pd.DataFrame([['', '', 'chr8:109254341-109254575', '', '-', 'inclusion', '', '']], columns=list(['isoform1','isoform2','exon', 'junction', 'strand', 'type', 'inclusion_nmd', 'exclusion_nmd']))\n",
    "    d = pd.DataFrame([['', '', 'chr2:191777919-191778090', '', '+', 'inclusion', '', '']], columns=list(['isoform1','isoform2','exon', 'junction', 'strand', 'type', 'inclusion_nmd', 'exclusion_nmd']))\n",
    "    \n",
    "    #NMD from exon exclusion\n",
    "    asout_df = pd.DataFrame([['', '', 'chr3:186502751-186502891', '', '+', 'exclusion', '', '']], columns=list(['isoform1','isoform2','exon', 'junction', 'strand','type', 'inclusion_nmd', 'exclusion_nmd']))    \n",
    "#     f = pd.DataFrame([['', '', 'chr3:196666122-196666303', '', '-', 'neg_ctrl', '', '']], columns=list(['isoform1','isoform2','exon', 'junction', 'strand', 'type', 'inclusion_nmd', 'exclusion_nmd']))\n",
    "#     g = pd.DataFrame([['', '', 'chr3:196666122-196666303', '', '-', 'neg_ctrl', '', '']], columns=list(['isoform1','isoform2','exon', 'junction', 'strand', 'type', 'inclusion_nmd', 'exclusion_nmd']))\n",
    "    \n",
    "    \n",
    "    \n",
    "    event_ids_df = event_ids_df.append([pos_str, neg_str, d, e, asout_df], ignore_index=True)\n",
    "    return event_ids_df"
   ]
  },
  {
   "cell_type": "code",
   "execution_count": 4,
   "metadata": {
    "collapsed": true
   },
   "outputs": [],
   "source": [
    "def include_exon_nmd(event_ids_df):\n",
    "    DBHuman = gffutils.FeatureDB(database, keep_order=True)\n",
    "    for i, row in event_ids_df.iterrows():\n",
    "        nmd = False\n",
    "        location = row['exon']\n",
    "        for index, human_exon in enumerate(DBHuman.features_of_type(('exon'), limit=location)):\n",
    "            if (human_exon['transcript_type']==[\"nonsense_mediated_decay\"]):\n",
    "                for stop_codon in DBHuman.children(human_exon['gene_id'][0], featuretype='stop_codon'):\n",
    "                    if (stop_codon_nmd(human_exon, stop_codon)==True):\n",
    "                        nmd = True\n",
    "        if (nmd==True):\n",
    "            event_ids_df.ix[i, 6] = 'True'\n",
    "        else:\n",
    "            event_ids_df.ix[i, 6] = 'False'\n",
    "    return event_ids_df"
   ]
  },
  {
   "cell_type": "code",
   "execution_count": null,
   "metadata": {
    "collapsed": true
   },
   "outputs": [],
   "source": [
    "# def exclude_exon_nmd(event_ids_df):\n",
    "#     DBHuman = gffutils.FeatureDB(database, keep_order=True)\n",
    "#     for i, row in event_ids_df.iterrows():\n",
    "#         nmd = False\n",
    "#         location = row['exon']\n",
    "#         #print('exon:', location)\n",
    "#         for exon in (DBHuman.features_of_type(('exon'), limit=location)):\n",
    "#             if (location==\"{chrom}:{start}-{end}\".format(chrom=human_exon.chrom, start=human_exon.start, end=human_exon.end):\n",
    "#                 for transcript in DBHuman.children(human_exon['gene_id'][0], featuretype='transcript'): #find transcripts that exon is not in\n",
    "#                     for human_exon in DBHuman.children(human_exon['transcript'][0], featuretype='exon'): #look in all exons after the missing exon\n",
    "#                         if (human_exon['transcript_type']==[\"nonsense_mediated_decay\"]):    \n",
    "#                             for stop_codon in DBHuman.children(human_exon['gene_id'][0], featuretype='stop_codon'):\n",
    "#                                 if (exon.strand == '+' and (exon.start >= event_ids_df.ix[row, 'exon'].split(':')[1])): #if strand is +, all exons with bigger location\n",
    "#                                     if (stop_codon_nmd(human_exon, stop_codon)==True):\n",
    "#                                         nmd = True\n",
    "#                                 else if (exon.strand == '-' and (exon.end <= event_ids_df.ix[row, 'exon'].split(':')[1])): #if strand is -, all exons with smaller location\n",
    "#                                     if (stop_codon_nmd(human_exon, stop_codon)==True):\n",
    "#                                         nmd = True\n",
    "#                 break\n",
    "#         if (nmd==True):\n",
    "#             event_ids_df.ix[i, 5] = 'True'\n",
    "#             event_ids_df.ix[i, 5] = 'False'\n",
    "#     return event_ids_df"
   ]
  },
  {
   "cell_type": "code",
   "execution_count": 5,
   "metadata": {
    "collapsed": true
   },
   "outputs": [],
   "source": [
    "def stop_codon_nmd(human_exon, stop_codon):\n",
    "    if stop_codon.strand == '+':\n",
    "        if (stop_codon.start>=human_exon.start and stop_codon.end<=human_exon.end and stop_codon.end+50<human_exon.end):\n",
    "#             print(\"\\t\\t\\t\\tExon ({exon}) Start: {start}, End: {end}, is an NMD exon\".format(exon=human_exon.id, start=human_exon.start, end=human_exon.end))\n",
    "#             human_exon_id = str(human_exon['exon_id']).split(\"'\")[1]\n",
    "            return True\n",
    "    if stop_codon.strand == '-':\n",
    "        if (stop_codon.start>=human_exon.start and stop_codon.end<=human_exon.end and human_exon.start+50<stop_codon.start):\n",
    "#             print(\"\\t\\t\\t\\tExon ({exon}) Start: {start}, End: {end}, is an NMD exon\".format(exon=human_exon.id, start=human_exon.start, end=human_exon.end))\n",
    "#             human_exon_id = str(human_exon['exon_id']).split(\"'\")[1]\n",
    "            return True\n",
    "    return False"
   ]
  },
  {
   "cell_type": "code",
   "execution_count": 6,
   "metadata": {
    "collapsed": true
   },
   "outputs": [],
   "source": [
    "def main(database, nmd_file):\n",
    "    database='/Users/rhythmicstar/projects/exon_evolution//gencode.v19.annotation.outrigger.gtf.db'\n",
    "    nmd_file='/Users/rhythmicstar/ipython_notebook/nmd/example_splicing.bed'\n",
    "    event_ids_df = possible_nmd(database, nmd_file)\n",
    "    #if negative correlation\n",
    "    event_ids_df = include_exon_nmd(event_ids_df)\n",
    "    #if positive correlation\n",
    "    #event_ids_df = exclude_exon_nmd(event_ids_df)\n",
    "    return event_ids_df"
   ]
  },
  {
   "cell_type": "code",
   "execution_count": 7,
   "metadata": {
    "collapsed": false
   },
   "outputs": [
    {
     "name": "stdout",
     "output_type": "stream",
     "text": [
      "                    isoform1                  isoform2  \\\n",
      "0    chr16:29383506-29484368   chr16:29383506-29383883   \n",
      "1   chr9:137102499-137103363  chr9:137102499-137103132   \n",
      "2    chr16:21404089-21404856   chr16:21404089-21404157   \n",
      "3     chr2:97198492-97209680    chr2:97198492-97200333   \n",
      "4    chr10:12149962-12156906   chr10:12149962-12155777   \n",
      "5   chr6:138921125-138929976  chr6:138926482-138929976   \n",
      "6   chr9:112694234-112716460  chr9:112701881-112716460   \n",
      "7    chr20:63700703-63702135   chr20:63701896-63702135   \n",
      "8   chr9:137102898-137103321  chr9:137102898-137103019   \n",
      "9    chr14:50161610-50180571   chr14:50174553-50180571   \n",
      "10                                                       \n",
      "11                                                       \n",
      "12                                                       \n",
      "13                                                       \n",
      "14                                                       \n",
      "\n",
      "                        exon                  junction strand       type  \\\n",
      "0    chr16:29383884-29383940   chr16:29383941-29484368      +              \n",
      "1   chr9:137103133-137103170  chr9:137103171-137103363      +              \n",
      "2    chr16:21404158-21404184   chr16:21404185-21404856      +              \n",
      "3     chr2:97200334-97200362    chr2:97200363-97209680      +              \n",
      "4    chr10:12155778-12155931   chr10:12155932-12156906      +              \n",
      "5   chr6:138926401-138926481  chr6:138921125-138926400      -              \n",
      "6   chr9:112701788-112701880  chr9:112694234-112701787      -              \n",
      "7    chr20:63701830-63701895   chr20:63700703-63701829      -              \n",
      "8   chr9:137103020-137103057  chr9:137103058-137103321      +              \n",
      "9    chr14:50174454-50174552   chr14:50161610-50174453      -              \n",
      "10  chr3:186506099-186506205                                +  inclusion   \n",
      "11  chr8:109254341-109254575                                -  inclusion   \n",
      "12  chr2:191777919-191778090                                +  inclusion   \n",
      "13  chr3:196666122-196666303                                -   neg_ctrl   \n",
      "14  chr3:186502751-186502891                                +  exclusion   \n",
      "\n",
      "   inclusion_nmd exclusion_nmd  \n",
      "0          False                \n",
      "1          False                \n",
      "2          False                \n",
      "3          False                \n",
      "4          False                \n",
      "5          False                \n",
      "6          False                \n",
      "7          False                \n",
      "8          False                \n",
      "9          False                \n",
      "10          True                \n",
      "11          True                \n",
      "12          True                \n",
      "13         False                \n",
      "14         False                \n"
     ]
    }
   ],
   "source": [
    "database='/Users/rhythmicstar/projects/exon_evolution//gencode.v19.annotation.outrigger.gtf.db'\n",
    "nmd_file='/Users/rhythmicstar/ipython_notebook/nmd/example_splicing.bed'\n",
    "event_ids_df = main(database, nmd_file)\n",
    "print(event_ids_df)"
   ]
  },
  {
   "cell_type": "code",
   "execution_count": 1,
   "metadata": {
    "collapsed": true
   },
   "outputs": [],
   "source": [
    "import gffutils"
   ]
  },
  {
   "cell_type": "code",
   "execution_count": 2,
   "metadata": {
    "collapsed": false
   },
   "outputs": [
    {
     "ename": "NameError",
     "evalue": "name 'possible_nmd' is not defined",
     "output_type": "error",
     "traceback": [
      "\u001b[0;31m---------------------------------------------------------------------------\u001b[0m",
      "\u001b[0;31mNameError\u001b[0m                                 Traceback (most recent call last)",
      "\u001b[0;32m<ipython-input-2-4b42a9f9270a>\u001b[0m in \u001b[0;36m<module>\u001b[0;34m()\u001b[0m\n\u001b[1;32m      1\u001b[0m \u001b[0mdatabase\u001b[0m\u001b[0;34m=\u001b[0m\u001b[0;34m'/Users/rhythmicstar/projects/exon_evolution//gencode.v19.annotation.outrigger.gtf.db'\u001b[0m\u001b[0;34m\u001b[0m\u001b[0m\n\u001b[1;32m      2\u001b[0m \u001b[0mnmd_file\u001b[0m\u001b[0;34m=\u001b[0m\u001b[0;34m'/Users/rhythmicstar/ipython_notebook/nmd/example_splicing.bed'\u001b[0m\u001b[0;34m\u001b[0m\u001b[0m\n\u001b[0;32m----> 3\u001b[0;31m \u001b[0mevent_ids_df\u001b[0m \u001b[0;34m=\u001b[0m \u001b[0mpossible_nmd\u001b[0m\u001b[0;34m(\u001b[0m\u001b[0mdatabase\u001b[0m\u001b[0;34m,\u001b[0m \u001b[0mnmd_file\u001b[0m\u001b[0;34m)\u001b[0m\u001b[0;34m\u001b[0m\u001b[0m\n\u001b[0m\u001b[1;32m      4\u001b[0m \u001b[0mDBHuman\u001b[0m \u001b[0;34m=\u001b[0m \u001b[0mgffutils\u001b[0m\u001b[0;34m.\u001b[0m\u001b[0mFeatureDB\u001b[0m\u001b[0;34m(\u001b[0m\u001b[0mdatabase\u001b[0m\u001b[0;34m,\u001b[0m \u001b[0mkeep_order\u001b[0m\u001b[0;34m=\u001b[0m\u001b[0;32mTrue\u001b[0m\u001b[0;34m)\u001b[0m\u001b[0;34m\u001b[0m\u001b[0m\n\u001b[1;32m      5\u001b[0m \u001b[0;34m\u001b[0m\u001b[0m\n",
      "\u001b[0;31mNameError\u001b[0m: name 'possible_nmd' is not defined"
     ]
    }
   ],
   "source": [
    "database='/Users/rhythmicstar/projects/exon_evolution//gencode.v19.annotation.outrigger.gtf.db'\n",
    "nmd_file='/Users/rhythmicstar/ipython_notebook/nmd/example_splicing.bed'\n",
    "event_ids_df = possible_nmd(database, nmd_file)\n",
    "DBHuman = gffutils.FeatureDB(database)\n",
    "\n",
    "for i, row in event_ids_df.iterrows():\n",
    "    print(i)\n",
    "    nmd = False\n",
    "    location = 'exon:' + row['exon'] + \":\" + row['strand']\n",
    "    print(location)\n",
    "    try:\n",
    "        exon = DBHuman[location]\n",
    "#         print(exon)\n",
    "    except gffutils.FeatureNotFoundError:\n",
    "        exon = \"none\"\n",
    "    if (exon!=\"none\"):\n",
    "        print(exon)\n",
    "        print(exon['exon_id'])\n",
    "    \n",
    "    \n",
    "    \n",
    "#         transcripts_with_exon = dict([exon['transcript_id'], set(DBHuman.parents(exon, featuretype = \"transcript\", limit=location))])\n",
    "#         print(transcripts_with_exon)\n",
    "#         all_transcripts = set(DBHuman.children(exon['gene_id'], featuretype=\"transcript\"))\n",
    "#         transcripts_without_exon = all_transcripts - transcripts_with_exon\n",
    "                \n",
    "                \n",
    "#                 exonInTrans = False\n",
    "#                 if (transcript['transcript_type']==[\"nonsense_mediated_decay\"]):\n",
    "#                     print(\"Transcript\")\n",
    "#                     for human_exon in DBHuman.children(transcript, featuretype='exon'): #look in all exons after the missing exon\n",
    "#                         if (\"{chrom}:{start}-{end}\".format(chrom=exon.chrom, start=exon.start, end=exon.end)==\"{chrom}:{start}-{end}\"\n",
    "#                             .format(chrom=human_exon.chrom, start=human_exon.start, end=human_exon.end)): #if transcript contains the exon\n",
    "#                             print(\"exon matches\")\n",
    "#                             break #is this correct? Want it to go to the next transcript\n",
    "\n",
    "#                     for human_exon in DBHuman.children(transcript, featuretype='exon'): #look in all exons after the missing exon\n",
    "#                         for stop_codon in DBHuman.children(human_exon['gene_id'][0], featuretype='stop_codon'):\n",
    "#                             if (human_exon.strand == '+' and (human_exon.end >= int(event_ids_df.ix[i, 'exon'].split(':')[1].split('-')[1]))): #if strand is +, all exons with bigger location\n",
    "#                                 if (stop_codon_nmd(human_exon, stop_codon)==True):\n",
    "#                                     print(\"True\")\n",
    "#                                     event_ids_df.ix[i, 7] = 'True'\n",
    "#                                     break\n",
    "#                             elif (exon.strand == '-' and (exon.start <= int(event_ids_df.ix[row, 'exon'].split(':')[1].split('-')[1]))): #if strand is -, all exons w/ small location\n",
    "#                                 if (stop_codon_nmd(human_exon, stop_codon)==True):\n",
    "#                                     print(\"True\")\n",
    "#                                     event_ids_df.ix[i, 7] = 'True'\n",
    "#                                     break\n",
    "# print(event_ids_df)\n",
    "\n",
    "\n",
    "\n",
    "# transcripts_with_exon = set(db.parents(transcript_type = \"exon\"))\n",
    "# transcript_exons = dict(transcript_id, set(db.childtren(transcript_id, transcript_type=\"exon\")))\n",
    "# transcripts_without = transcripts-transcripts_with_exon\n",
    "# for each transcript without,\n",
    "#     find all transcripts whose coding seqs differ only by this one exon\n",
    "#     Check for premature stop codons\n",
    "\n",
    "\n",
    "#     for transcript_id in transcripts\n",
    "    \n",
    "\n",
    "# for t1 in transcripts_without:\n",
    "#     exons = transcript_exons[t1]\n",
    "#     transcripts_plus_exon = [t2 for t2 in transcripts_with\n",
    "#                             if len(transcript_exons[t2]exons)==1]\n",
    "#                                 nmd=False"
   ]
  },
  {
   "cell_type": "code",
   "execution_count": null,
   "metadata": {
    "collapsed": true
   },
   "outputs": [],
   "source": [
    "event_ids_df.ix[i, 5] = 'False'"
   ]
  },
  {
   "cell_type": "code",
   "execution_count": null,
   "metadata": {
    "collapsed": true
   },
   "outputs": [],
   "source": [
    "gffutils.__version__"
   ]
  },
  {
   "cell_type": "code",
   "execution_count": null,
   "metadata": {
    "collapsed": true
   },
   "outputs": [],
   "source": [
    "[x-100 for x in range(4)]"
   ]
  },
  {
   "cell_type": "code",
   "execution_count": null,
   "metadata": {
    "collapsed": true
   },
   "outputs": [],
   "source": [
    "for i in range(5):\n",
    "    print(i)\n",
    "    for j in range(10, 15):\n",
    "        if j > 12:\n",
    "            break\n",
    "        print('\\t', j)"
   ]
  },
  {
   "cell_type": "code",
   "execution_count": null,
   "metadata": {
    "collapsed": true
   },
   "outputs": [],
   "source": [
    "# database='/Users/rhythmicstar/projects/exon_evolution//gencode.v19.annotation.gtf.db'\n",
    "# nmd_file='/Users/rhythmicstar/ipython_notebook/nmd/example_splicing.bed'\n",
    "# event_ids_df = possible_nmd(database, nmd_file)\n",
    "# DBHuman = gffutils.FeatureDB(database, keep_order=True)\n",
    "# for i, row in event_ids_df.iterrows():\n",
    "#     nmd = False\n",
    "#     location = row['exon']\n",
    "#     for index, exon in enumerate(DBHuman.features_of_type(('exon'), limit=location)):\n",
    "#         print(location)\n",
    "#         if (location==(\"{chrom}:{start}-{end}\".format(chrom=exon.chrom, start=exon.start, end=exon.end))):\n",
    "#             for transcript in DBHuman.children(exon['gene_id'][0], featuretype='transcript'): #find transcripts that exon is not in\n",
    "#                 exonInTrans = False\n",
    "#                 if (transcript['transcript_type']==[\"nonsense_mediated_decay\"]):\n",
    "#                     print(\"Transcript\")\n",
    "#                     for human_exon in DBHuman.children(transcript, featuretype='exon'): #look in all exons after the missing exon\n",
    "#                         if (\"{chrom}:{start}-{end}\".format(chrom=exon.chrom, start=exon.start, end=exon.end)==\"{chrom}:{start}-{end}\"\n",
    "#                             .format(chrom=human_exon.chrom, start=human_exon.start, end=human_exon.end)): #if transcript contains the exon\n",
    "#                             print(\"exon matches\")\n",
    "#                             break #is this correct? Want it to go to the next transcript\n",
    "\n",
    "#                     for human_exon in DBHuman.children(transcript, featuretype='exon'): #look in all exons after the missing exon\n",
    "#                         for stop_codon in DBHuman.children(human_exon['gene_id'][0], featuretype='stop_codon'):\n",
    "#                             if (human_exon.strand == '+' and (human_exon.end >= int(event_ids_df.ix[i, 'exon'].split(':')[1].split('-')[1]))): #if strand is +, all exons with bigger location\n",
    "#                                 if (stop_codon_nmd(human_exon, stop_codon)==True):\n",
    "#                                     print(\"True\")\n",
    "#                                     event_ids_df.ix[i, 5] = 'True'\n",
    "#                                     break\n",
    "#                             elif (exon.strand == '-' and (exon.start <= int(event_ids_df.ix[row, 'exon'].split(':')[1].split('-')[1]))): #if strand is -, all exons w/ small location\n",
    "#                                 if (stop_codon_nmd(human_exon, stop_codon)==True):\n",
    "#                                     print(\"True\")\n",
    "#                                     event_ids_df.ix[i, 5] = 'True'\n",
    "#                                     break\n",
    "# print(event_ids_df)"
   ]
  },
  {
   "cell_type": "code",
   "execution_count": null,
   "metadata": {
    "collapsed": true
   },
   "outputs": [],
   "source": [
    "set1 = set()\n",
    "for exon in (DBHuman.features_of_type(('exon'), limit='chr3:186506099-186506205')):\n",
    "    transcripts_with_exon = DBHuman.parents(exon, featuretype = \"transcript\", limit='chr3:186506099-186506205')\n",
    "    set1.add(transcripts_with_exon)\n",
    "print(set1)"
   ]
  },
  {
   "cell_type": "code",
   "execution_count": null,
   "metadata": {
    "collapsed": true
   },
   "outputs": [],
   "source": [
    "set([1,2,3])"
   ]
  },
  {
   "cell_type": "code",
   "execution_count": 9,
   "metadata": {
    "collapsed": true
   },
   "outputs": [],
   "source": [
    "exon = DBHuman['exon:chr9:100395525-100395857:-']"
   ]
  },
  {
   "cell_type": "code",
   "execution_count": null,
   "metadata": {
    "collapsed": true
   },
   "outputs": [],
   "source": [
    "print(exon)"
   ]
  },
  {
   "cell_type": "code",
   "execution_count": 7,
   "metadata": {
    "collapsed": false
   },
   "outputs": [
    {
     "ename": "FeatureNotFoundError",
     "evalue": "exon:chr3:186502751-186502891:+",
     "output_type": "error",
     "traceback": [
      "\u001b[0;31m---------------------------------------------------------------------------\u001b[0m",
      "\u001b[0;31mFeatureNotFoundError\u001b[0m                      Traceback (most recent call last)",
      "\u001b[0;32m<ipython-input-7-bf237b099a34>\u001b[0m in \u001b[0;36m<module>\u001b[0;34m()\u001b[0m\n\u001b[1;32m      1\u001b[0m \u001b[0mDBHuman\u001b[0m \u001b[0;34m=\u001b[0m \u001b[0mgffutils\u001b[0m\u001b[0;34m.\u001b[0m\u001b[0mFeatureDB\u001b[0m\u001b[0;34m(\u001b[0m\u001b[0mdatabase\u001b[0m\u001b[0;34m,\u001b[0m \u001b[0mkeep_order\u001b[0m\u001b[0;34m=\u001b[0m\u001b[0;32mTrue\u001b[0m\u001b[0;34m)\u001b[0m\u001b[0;34m\u001b[0m\u001b[0m\n\u001b[0;32m----> 2\u001b[0;31m \u001b[0mprint\u001b[0m\u001b[0;34m(\u001b[0m\u001b[0mDBHuman\u001b[0m\u001b[0;34m[\u001b[0m\u001b[0;34m\"exon:chr3:186502751-186502891:+\"\u001b[0m\u001b[0;34m]\u001b[0m\u001b[0;34m)\u001b[0m\u001b[0;34m\u001b[0m\u001b[0m\n\u001b[0m",
      "\u001b[0;32m/Users/rhythmicstar/anaconda3/lib/python3.5/site-packages/gffutils/interface.py\u001b[0m in \u001b[0;36m__getitem__\u001b[0;34m(self, key)\u001b[0m\n\u001b[1;32m    207\u001b[0m         \u001b[0;31m# TODO: raise error if more than one key is found\u001b[0m\u001b[0;34m\u001b[0m\u001b[0;34m\u001b[0m\u001b[0m\n\u001b[1;32m    208\u001b[0m         \u001b[0;32mif\u001b[0m \u001b[0mresults\u001b[0m \u001b[0;32mis\u001b[0m \u001b[0;32mNone\u001b[0m\u001b[0;34m:\u001b[0m\u001b[0;34m\u001b[0m\u001b[0m\n\u001b[0;32m--> 209\u001b[0;31m             \u001b[0;32mraise\u001b[0m \u001b[0mFeatureNotFoundError\u001b[0m\u001b[0;34m(\u001b[0m\u001b[0mkey\u001b[0m\u001b[0;34m)\u001b[0m\u001b[0;34m\u001b[0m\u001b[0m\n\u001b[0m\u001b[1;32m    210\u001b[0m         \u001b[0;32mreturn\u001b[0m \u001b[0mself\u001b[0m\u001b[0;34m.\u001b[0m\u001b[0m_feature_returner\u001b[0m\u001b[0;34m(\u001b[0m\u001b[0;34m**\u001b[0m\u001b[0mresults\u001b[0m\u001b[0;34m)\u001b[0m\u001b[0;34m\u001b[0m\u001b[0m\n\u001b[1;32m    211\u001b[0m \u001b[0;34m\u001b[0m\u001b[0m\n",
      "\u001b[0;31mFeatureNotFoundError\u001b[0m: exon:chr3:186502751-186502891:+"
     ]
    }
   ],
   "source": [
    "DBHuman = gffutils.FeatureDB(database, keep_order=True)\n",
    "print(DBHuman[\"exon:chr3:186502751-186502891:+\"])"
   ]
  }
 ],
 "metadata": {
  "kernelspec": {
   "display_name": "Python 3",
   "language": "python",
   "name": "python3"
  },
  "language_info": {
   "codemirror_mode": {
    "name": "ipython",
    "version": 3
   },
   "file_extension": ".py",
   "mimetype": "text/x-python",
   "name": "python",
   "nbconvert_exporter": "python",
   "pygments_lexer": "ipython3",
   "version": "3.5.1"
  }
 },
 "nbformat": 4,
 "nbformat_minor": 0
}
