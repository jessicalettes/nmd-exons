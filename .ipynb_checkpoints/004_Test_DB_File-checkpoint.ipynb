{
 "cells": [
  {
   "cell_type": "code",
   "execution_count": 1,
   "metadata": {
    "collapsed": true
   },
   "outputs": [],
   "source": [
    "input_file = '/Users/rhythmicstar/projects/exon_evolution//gencode.v19.annotation.gtf'\n",
    "output_file = '/Users/rhythmicstar/projects/exon_evolution//gencode.v19.annotation.EIF4A2.gtf'\n",
    "! grep '\"EIF4A2\"' < $input_file > $output_file"
   ]
  },
  {
   "cell_type": "code",
   "execution_count": 2,
   "metadata": {
    "collapsed": true
   },
   "outputs": [],
   "source": [
    "output_file = '/Users/rhythmicstar/projects/exon_evolution//gencode.v19.annotation.CUTC.gtf'\n",
    "! grep '\"CUTC\"' < $input_file > $output_file"
   ]
  },
  {
   "cell_type": "code",
   "execution_count": 3,
   "metadata": {
    "collapsed": true
   },
   "outputs": [],
   "source": [
    "output_file = '/Users/rhythmicstar/projects/exon_evolution//gencode.v19.annotation.MAPT.gtf'\n",
    "! grep '\"MAPT\"' < $input_file > $output_file"
   ]
  },
  {
   "cell_type": "code",
   "execution_count": 4,
   "metadata": {
    "collapsed": true
   },
   "outputs": [],
   "source": [
    "output_file = '/Users/rhythmicstar/projects/exon_evolution//gencode.v19.annotation.TMX2.gtf'\n",
    "! grep '\"TMX2\"' < $input_file > $output_file"
   ]
  },
  {
   "cell_type": "code",
   "execution_count": 5,
   "metadata": {
    "collapsed": true
   },
   "outputs": [],
   "source": [
    "output_file = '/Users/rhythmicstar/projects/exon_evolution//gencode.v19.annotation.PPHLN1.gtf'\n",
    "! grep '\"PPHLN1\"' < $input_file > $output_file"
   ]
  },
  {
   "cell_type": "code",
   "execution_count": 6,
   "metadata": {
    "collapsed": true
   },
   "outputs": [],
   "source": [
    "output_file = '/Users/rhythmicstar/projects/exon_evolution//gencode.v19.annotation.NKTR.gtf'\n",
    "! grep '\"NKTR\"' < $input_file > $output_file"
   ]
  },
  {
   "cell_type": "code",
   "execution_count": 7,
   "metadata": {
    "collapsed": true
   },
   "outputs": [],
   "source": [
    "output_file = '/Users/rhythmicstar/projects/exon_evolution//gencode.v19.annotation.NT5C3A.gtf'\n",
    "! grep '\"NT5C3A\"' < $input_file > $output_file"
   ]
  },
  {
   "cell_type": "code",
   "execution_count": 8,
   "metadata": {
    "collapsed": true
   },
   "outputs": [],
   "source": [
    "output_file = '/Users/rhythmicstar/projects/exon_evolution//gencode.v19.annotation.TMEM66.gtf'\n",
    "! grep '\"TMEM66\"' < $input_file > $output_file"
   ]
  },
  {
   "cell_type": "code",
   "execution_count": null,
   "metadata": {
    "collapsed": true
   },
   "outputs": [],
   "source": [
    "output_file = '/Users/rhythmicstar/projects/exon_evolution//gencode.v19.annotation.CCNB1IP1.gtf'\n",
    "! grep '\"CCNB1IP1\"' < $input_file > $output_file"
   ]
  },
  {
   "cell_type": "code",
   "execution_count": 9,
   "metadata": {
    "collapsed": false
   },
   "outputs": [],
   "source": [
    "# TO APPEND TO A FILE SINCE THE CAT DIDN'T WORK WITH TWO FILES FOR SOME REASON\n",
    "output_file = '/Users/rhythmicstar/projects/exon_evolution//gencode.v19.annotation.nmdtest.gtf'\n",
    "input_file1 = '/Users/rhythmicstar/projects/exon_evolution//gencode.v19.annotation.EIF4A2.gtf'\n",
    "input_file2 ='/Users/rhythmicstar/projects/exon_evolution//gencode.v19.annotation.CUTC.gtf'\n",
    "input_file3 ='/Users/rhythmicstar/projects/exon_evolution//gencode.v19.annotation.MAPT.gtf'\n",
    "input_file4 ='/Users/rhythmicstar/projects/exon_evolution//gencode.v19.annotation.TMX2.gtf'\n",
    "! cat < $input_file1 >> $output_file\n",
    "! cat < $input_file2 >> $output_file\n",
    "! cat < $input_file3 >> $output_file\n",
    "! cat < $input_file4 >> $output_file"
   ]
  },
  {
   "cell_type": "code",
   "execution_count": 10,
   "metadata": {
    "collapsed": true
   },
   "outputs": [],
   "source": [
    "input_file5 ='/Users/rhythmicstar/projects/exon_evolution//gencode.v19.annotation.PPHLN1.gtf'\n",
    "input_file6 ='/Users/rhythmicstar/projects/exon_evolution//gencode.v19.annotation.NKTR.gtf'\n",
    "input_file7 ='/Users/rhythmicstar/projects/exon_evolution//gencode.v19.annotation.NT5C3A.gtf'\n",
    "input_file8 ='/Users/rhythmicstar/projects/exon_evolution//gencode.v19.annotation.TMEM66.gtf'\n",
    "input_file9 ='/Users/rhythmicstar/projects/exon_evolution//gencode.v19.annotation.CCNB1IP1.gtf'\n",
    "! cat < $input_file5 >> $output_file\n",
    "! cat < $input_file6 >> $output_file\n",
    "! cat < $input_file7 >> $output_file\n",
    "! cat < $input_file8 >> $output_file\n",
    "! cat < $input_file9 >> $output_file"
   ]
  },
  {
   "cell_type": "code",
   "execution_count": 11,
   "metadata": {
    "collapsed": true
   },
   "outputs": [],
   "source": [
    "#outrigger\n",
    "from outrigger.io.gtf import create_db"
   ]
  },
  {
   "cell_type": "code",
   "execution_count": 12,
   "metadata": {
    "collapsed": false
   },
   "outputs": [
    {
     "name": "stderr",
     "output_type": "stream",
     "text": [
      "2017-04-13 18:02:15,624 - INFO - Committing changes\n",
      "INFO:gffutils.create:Committing changes\n",
      "2017-04-13 18:02:15,630 - INFO - Populating features table and first-order relations: 8417 features\n",
      "INFO:gffutils.create:Populating features table and first-order relations: 8417 features\n",
      "2017-04-13 18:02:15,632 - INFO - Creating relations(parent) index\n",
      "INFO:gffutils.create:Creating relations(parent) index\n",
      "2017-04-13 18:02:15,638 - INFO - Creating relations(child) index\n",
      "INFO:gffutils.create:Creating relations(child) index\n",
      "2017-04-13 18:02:15,644 - INFO - Creating features(featuretype) index\n",
      "INFO:gffutils.create:Creating features(featuretype) index\n"
     ]
    }
   ],
   "source": [
    "testdb = create_db(\"/Users/rhythmicstar/projects/exon_evolution//gencode.v19.annotation.nmdtest.gtf\", \n",
    "               \"/Users/rhythmicstar/projects/exon_evolution//gencode.v19.annotation.outrigger.nmdtest.gtf.db\")"
   ]
  },
  {
   "cell_type": "code",
   "execution_count": null,
   "metadata": {
    "collapsed": true
   },
   "outputs": [],
   "source": []
  }
 ],
 "metadata": {
  "kernelspec": {
   "display_name": "Python 3",
   "language": "python",
   "name": "python3"
  },
  "language_info": {
   "codemirror_mode": {
    "name": "ipython",
    "version": 3
   },
   "file_extension": ".py",
   "mimetype": "text/x-python",
   "name": "python",
   "nbconvert_exporter": "python",
   "pygments_lexer": "ipython3",
   "version": "3.5.1"
  }
 },
 "nbformat": 4,
 "nbformat_minor": 0
}
