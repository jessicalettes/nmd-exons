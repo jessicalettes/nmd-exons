{
 "cells": [
  {
   "cell_type": "code",
   "execution_count": 176,
   "metadata": {
    "collapsed": true
   },
   "outputs": [],
   "source": [
    "#imports\n",
    "#for gffutils database\n",
    "import gffutils\n",
    "\n",
    "#for pandas data frame\n",
    "import pandas as pd"
   ]
  },
  {
   "cell_type": "markdown",
   "metadata": {},
   "source": [
    "Make df with splicing data"
   ]
  },
  {
   "cell_type": "code",
   "execution_count": 177,
   "metadata": {
    "collapsed": false
   },
   "outputs": [],
   "source": [
    "def possible_nmd(database, nmd_file):    \n",
    "    DBHuman = gffutils.FeatureDB(database, keep_order=True)\n",
    "    splicing_data = pd.read_csv(nmd_file, header=None, sep='\\s+')\n",
    "    index = pd.Index(splicing_data[3])\n",
    "    event_ids = pd.Series(index, name='event_id')\n",
    "    event_ids_df = event_ids.to_frame()\n",
    "    event_ids_df['isoform1'] = splicing_data[3].map(lambda x: x.split('|')[0].split('junction:')[1][:-2])\n",
    "    event_ids_df['isoform2'] = splicing_data[3].map(lambda x: x.split('isoform2=junction:')[1].split('@')[0][:-2])\n",
    "    event_ids_df['exon'] = splicing_data[3].map(lambda x: x.split('exon:')[1].split('@')[0][:-2])\n",
    "    event_ids_df['junction'] = splicing_data[3].map(lambda x: x.split('@junction:')[1].split(' ')[0][:-2])\n",
    "    event_ids_df['nmd'] = ''\n",
    "    event_ids_df = event_ids_df[['isoform1', 'isoform2', 'exon', 'junction', 'nmd']]\n",
    "\n",
    "    pos_str = pd.DataFrame([['', '', 'chr3:186506099-186506205', '', '']], columns=list(['isoform1','isoform2','exon', 'junction', 'nmd']))\n",
    "    neg_str = pd.DataFrame([['', '', 'chr8:109213972-109260959', '', '']], columns=list(['isoform1','isoform2','exon', 'junction', 'nmd']))\n",
    "    c = pd.DataFrame([['', '', 'chr8:109213972-109260959', '', '']], columns=list(['isoform1','isoform2','exon', 'junction', 'nmd']))\n",
    "    d = pd.DataFrame([['', '', 'chr2:191745547-191830270', '', '']], columns=list(['isoform1','isoform2','exon', 'junction', 'nmd']))\n",
    "    e = pd.DataFrame([['', '', 'chr3:196662273-196669464', '', '']], columns=list(['isoform1','isoform2','exon', 'junction', 'nmd']))\n",
    "    f = pd.DataFrame([['', '', 'chr9:100395705-100436029', '', '']], columns=list(['isoform1','isoform2','exon', 'junction', 'nmd']))\n",
    "    g = pd.DataFrame([['', '', 'chr8:101715144-101734315', '', '']], columns=list(['isoform1','isoform2','exon', 'junction', 'nmd']))\n",
    "    \n",
    "    asout_df = pd.DataFrame([['', '', 'chr3:186502751-186502891', '', 'chr3', '']], columns=list(['isoform1','isoform2','exon', 'junction', 'chrom', 'strand']))    \n",
    "\n",
    "    event_ids_df = event_ids_df.append([pos_str, neg_str, c, d, e, f, g, asout_df], ignore_index=True)\n",
    "    return event_ids_df"
   ]
  },
  {
   "cell_type": "code",
   "execution_count": 178,
   "metadata": {
    "collapsed": false,
    "scrolled": false
   },
   "outputs": [],
   "source": [
    "def include_exon_nmd(event_ids_df):\n",
    "    for i, row in event_ids_df.iterrows():\n",
    "        nmd = False\n",
    "        location = row['exon']\n",
    "        #print('exon:', location)\n",
    "        for index, human_exon in enumerate(DBHuman.features_of_type(('exon'), limit=location)):\n",
    "            if (human_exon['transcript_type']==[\"nonsense_mediated_decay\"]):\n",
    "                for stop_codon in DBHuman.children(human_exon['gene_id'][0], featuretype='stop_codon'):\n",
    "                    if (stop_codon_nmd(human_exon, stop_codon)==True):\n",
    "                        nmd = True\n",
    "        if (nmd==True):\n",
    "            event_ids_df.ix[i, 4] = 'True'\n",
    "    return event_ids_df"
   ]
  },
  {
   "cell_type": "code",
   "execution_count": 179,
   "metadata": {
    "collapsed": false
   },
   "outputs": [],
   "source": [
    "def exclude_exon_nmd(event_ids_df):\n",
    "    for i, row in event_ids_df.iterrows():\n",
    "        nmd = False\n",
    "        location = row['exon']\n",
    "        #print('exon:', location)\n",
    "        for index, human_exon in enumerate(DBHuman.features_of_type(('exon'), limit=location)):\n",
    "            #if there's an exon in the transcript that's after the missing exon that has a premature stop codon\n",
    "            #then say it's nmd\n",
    "            \n",
    "    #event_ids_df['nmd'] = stop_codon_nmd(human_exon, stop_codon)\n",
    "    return event_ids_df"
   ]
  },
  {
   "cell_type": "code",
   "execution_count": 180,
   "metadata": {
    "collapsed": true
   },
   "outputs": [],
   "source": [
    "def stop_codon_nmd(human_exon, stop_codon):\n",
    "    if stop_codon.strand == '+':\n",
    "        if (stop_codon.start>=human_exon.start and stop_codon.end<=human_exon.end and stop_codon.end+50<human_exon.end):\n",
    "#             print(\"\\t\\t\\t\\tExon ({exon}) Start: {start}, End: {end}, is an NMD exon\".format(exon=human_exon.id, start=human_exon.start, end=human_exon.end))\n",
    "#             human_exon_id = str(human_exon['exon_id']).split(\"'\")[1]\n",
    "            return True\n",
    "    if stop_codon.strand == '-':\n",
    "        if (stop_codon.start>=human_exon.start and stop_codon.end<=human_exon.end and human_exon.start+50<stop_codon.start):\n",
    "#             print(\"\\t\\t\\t\\tExon ({exon}) Start: {start}, End: {end}, is an NMD exon\".format(exon=human_exon.id, start=human_exon.start, end=human_exon.end))\n",
    "#             human_exon_id = str(human_exon['exon_id']).split(\"'\")[1]\n",
    "            return True\n",
    "    return False"
   ]
  },
  {
   "cell_type": "code",
   "execution_count": 184,
   "metadata": {
    "collapsed": false
   },
   "outputs": [],
   "source": [
    "def main(database, nmd_file):\n",
    "    database='/Users/rhythmicstar/projects/exon_evolution//gencode.v19.annotation.gtf.db'\n",
    "    nmd_file='/Users/rhythmicstar/ipython_notebook/nmd/example_splicing.bed'\n",
    "    event_ids_df = possible_nmd(database, nmd_file)\n",
    "    #if negative correlation\n",
    "    event_ids_df = include_exon_nmd(event_ids_df)\n",
    "    #if positive correlation\n",
    "    #event_ids_df = exclude_exon_nmd(event_ids_df)\n",
    "    return event_ids_df"
   ]
  },
  {
   "cell_type": "code",
   "execution_count": 185,
   "metadata": {
    "collapsed": false
   },
   "outputs": [
    {
     "name": "stdout",
     "output_type": "stream",
     "text": [
      "   chrom                      exon                  isoform1  \\\n",
      "0    NaN   chr16:29383884-29383940   chr16:29383506-29484368   \n",
      "1    NaN  chr9:137103133-137103170  chr9:137102499-137103363   \n",
      "2    NaN   chr16:21404158-21404184   chr16:21404089-21404856   \n",
      "3    NaN    chr2:97200334-97200362    chr2:97198492-97209680   \n",
      "4    NaN   chr10:12155778-12155931   chr10:12149962-12156906   \n",
      "5    NaN  chr6:138926401-138926481  chr6:138921125-138929976   \n",
      "6    NaN  chr9:112701788-112701880  chr9:112694234-112716460   \n",
      "7    NaN   chr20:63701830-63701895   chr20:63700703-63702135   \n",
      "8    NaN  chr9:137103020-137103057  chr9:137102898-137103321   \n",
      "9    NaN   chr14:50174454-50174552   chr14:50161610-50180571   \n",
      "10   NaN  chr3:186506099-186506205                             \n",
      "11   NaN  chr8:109213972-109260959                             \n",
      "12   NaN  chr8:109213972-109260959                             \n",
      "13   NaN  chr2:191745547-191830270                             \n",
      "14   NaN  chr3:196662273-196669464                             \n",
      "15   NaN  chr9:100395705-100436029                             \n",
      "16   NaN  chr8:101715144-101734315                             \n",
      "17  chr3  chr3:186502751-186502891                             \n",
      "\n",
      "                    isoform2                  junction  nmd strand  \n",
      "0    chr16:29383506-29383883   chr16:29383941-29484368         NaN  \n",
      "1   chr9:137102499-137103132  chr9:137103171-137103363         NaN  \n",
      "2    chr16:21404089-21404157   chr16:21404185-21404856         NaN  \n",
      "3     chr2:97198492-97200333    chr2:97200363-97209680         NaN  \n",
      "4    chr10:12149962-12155777   chr10:12155932-12156906         NaN  \n",
      "5   chr6:138926482-138929976  chr6:138921125-138926400         NaN  \n",
      "6   chr9:112701881-112716460  chr9:112694234-112701787         NaN  \n",
      "7    chr20:63701896-63702135   chr20:63700703-63701829         NaN  \n",
      "8   chr9:137102898-137103019  chr9:137103058-137103321         NaN  \n",
      "9    chr14:50174553-50180571   chr14:50161610-50174453         NaN  \n",
      "10                                                True         NaN  \n",
      "11                                                True         NaN  \n",
      "12                                                True         NaN  \n",
      "13                                                True         NaN  \n",
      "14                                                True         NaN  \n",
      "15                                                True         NaN  \n",
      "16                                                True         NaN  \n",
      "17                                                      NaN         \n"
     ]
    }
   ],
   "source": [
    "database='/Users/rhythmicstar/projects/exon_evolution//gencode.v19.annotation.gtf.db'\n",
    "nmd_file='/Users/rhythmicstar/ipython_notebook/nmd/example_splicing.bed'\n",
    "event_ids_df = main(database, nmd_file)\n",
    "print(event_ids_df)"
   ]
  },
  {
   "cell_type": "code",
   "execution_count": null,
   "metadata": {
    "collapsed": true
   },
   "outputs": [],
   "source": []
  }
 ],
 "metadata": {
  "kernelspec": {
   "display_name": "Python 3",
   "language": "python",
   "name": "python3"
  },
  "language_info": {
   "codemirror_mode": {
    "name": "ipython",
    "version": 3
   },
   "file_extension": ".py",
   "mimetype": "text/x-python",
   "name": "python",
   "nbconvert_exporter": "python",
   "pygments_lexer": "ipython3",
   "version": "3.5.1"
  }
 },
 "nbformat": 4,
 "nbformat_minor": 0
}
