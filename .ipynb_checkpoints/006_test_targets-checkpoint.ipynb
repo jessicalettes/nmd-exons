{
 "cells": [
  {
   "cell_type": "code",
   "execution_count": 134,
   "metadata": {
    "collapsed": true
   },
   "outputs": [],
   "source": [
    "import nmd\n",
    "import csv\n",
    "import numpy as np\n",
    "import pandas as pd\n",
    "import os"
   ]
  },
  {
   "cell_type": "code",
   "execution_count": 85,
   "metadata": {
    "collapsed": false
   },
   "outputs": [
    {
     "name": "stdout",
     "output_type": "stream",
     "text": [
      "The autoreload extension is already loaded. To reload it, use:\n",
      "  %reload_ext autoreload\n"
     ]
    }
   ],
   "source": [
    "%load_ext autoreload\n",
    "%autoreload 2"
   ]
  },
  {
   "cell_type": "code",
   "execution_count": 122,
   "metadata": {
    "collapsed": true
   },
   "outputs": [],
   "source": [
    "# targets='/Users/rhythmicstar/ipython_notebook/nmd/correlated_actual_filtered_targets.csv'\n",
    "# targets='/Users/rhythmicstar/ipython_notebook/nmd/events_beyond_cutoff_targets.csv'\n",
    "# targets='/Users/rhythmicstar/ipython_notebook/nmd/events_beyond_cutoff_ipsc_npc_mn_targets.csv'\n",
    "\n",
    "# targets='/Users/rhythmicstar/ipython_notebook/nmd/HepG2_JunctionCountOnly_targets.csv'\n",
    "# targets='/Users/rhythmicstar/ipython_notebook/nmd/HepG2_ReadsOnTargetAndJunctionCounts_targets.csv'\n",
    "# targets='/Users/rhythmicstar/ipython_notebook/nmd/K562_JunctionCountOnly_targets.csv'\n",
    "targets='/Users/rhythmicstar/ipython_notebook/nmd/K562_ReadsOnTargetAndJunctionCounts_targets.csv'\n",
    "full_db='/Users/rhythmicstar/projects/exon_evolution/gencode.v19.annotation.outrigger.gtf.db'"
   ]
  },
  {
   "cell_type": "code",
   "execution_count": 137,
   "metadata": {
    "collapsed": false
   },
   "outputs": [
    {
     "name": "stdout",
     "output_type": "stream",
     "text": [
      "K562_ReadsOnTargetAndJunctionCounts_targets.csv\n",
      "/Users/rhythmicstar/ipython_notebook/nmd\n"
     ]
    }
   ],
   "source": [
    "print(os.path.basename(targets))\n",
    "print(os.path.dirname(targets))"
   ]
  },
  {
   "cell_type": "code",
   "execution_count": 123,
   "metadata": {
    "collapsed": false
   },
   "outputs": [],
   "source": [
    "nmd_targets = pd.read_csv(targets, header=None)\n",
    "nmd_exons = nmd.NMDExons(full_db, nmd_targets[0])"
   ]
  },
  {
   "cell_type": "code",
   "execution_count": 124,
   "metadata": {
    "collapsed": false,
    "scrolled": false
   },
   "outputs": [
    {
     "name": "stdout",
     "output_type": "stream",
     "text": [
      "CPU times: user 159 ms, sys: 28.5 ms, total: 187 ms\n",
      "Wall time: 212 ms\n"
     ]
    }
   ],
   "source": [
    "%%time\n",
    "nmd_classifications = nmd_exons.find_nmd_exons()"
   ]
  },
  {
   "cell_type": "code",
   "execution_count": 125,
   "metadata": {
    "collapsed": false
   },
   "outputs": [
    {
     "data": {
      "text/plain": [
       "exon_id\n",
       "exon:chr19:49605370-49606844:+      Splicing not known to cause NMD\n",
       "exon:chr12:112457543-112457685:+    Splicing not known to cause NMD\n",
       "exon:chr1:46775568-46775716:+       Splicing not known to cause NMD\n",
       "exon:chr1:46775572-46775716:+       Splicing not known to cause NMD\n",
       "exon:chr2:216257653-216257926:-     Splicing not known to cause NMD\n",
       "exon:chr1:24973569-24973699:+       Splicing not known to cause NMD\n",
       "exon:chr1:24973569-24973640:+       Splicing not known to cause NMD\n",
       "exon:chr12:112457486-112457685:+    Splicing not known to cause NMD\n",
       "exon:chr7:44838346-44838413:+       Splicing not known to cause NMD\n",
       "exon:chr19:54710420-54710592:+      Splicing not known to cause NMD\n",
       "exon:chr20:34327314-34327469:-      Splicing not known to cause NMD\n",
       "exon:chr10:79799961-79799983:+      Splicing not known to cause NMD\n",
       "exon:chr1:46775568-46775716:+       Splicing not known to cause NMD\n",
       "exon:chr14:23536522-23537880:-      Splicing not known to cause NMD\n",
       "exon:chr20:34327225-34327469:-      Splicing not known to cause NMD\n",
       "exon:chr12:112457559-112457685:+    Splicing not known to cause NMD\n",
       "exon:chr12:112457543-112457698:+    Splicing not known to cause NMD\n",
       "exon:chr6:53159063-53159289:-       Splicing not known to cause NMD\n",
       "exon:chr19:49605370-49605455:+      Splicing not known to cause NMD\n",
       "exon:chr12:112457559-112457698:+    Splicing not known to cause NMD\n",
       "exon:chr8:126111695-126111799:+     Splicing not known to cause NMD\n",
       "exon:chr11:70267575-70267686:+      Splicing not known to cause NMD\n",
       "exon:chr4:56471441-56471516:-       Splicing not known to cause NMD\n",
       "exon:chr3:152017193-152017420:+     Splicing not known to cause NMD\n",
       "exon:chrX:1719030-1719100:+         Splicing not known to cause NMD\n",
       "exon:chr17:16342894-16343017:+      Splicing not known to cause NMD\n",
       "exon:chr4:17493854-17493963:-       Splicing not known to cause NMD\n",
       "exon:chr2:65561248-65561399:-       Splicing not known to cause NMD\n",
       "exon:chr19:49605370-49605442:+      Splicing not known to cause NMD\n",
       "exon:chr3:152017993-152018156:+     Splicing not known to cause NMD\n",
       "                                                 ...               \n",
       "exon:chr2:97875536-97875609:+       Splicing not known to cause NMD\n",
       "exon:chr1:207963597-207963690:+     Splicing not known to cause NMD\n",
       "exon:chr10:74520308-74520430:+      Splicing not known to cause NMD\n",
       "exon:chr2:9986185-9986315:+         Splicing not known to cause NMD\n",
       "exon:chr22:50696288-50696374:-      Splicing not known to cause NMD\n",
       "exon:chr7:124510964-124511095:-     Splicing not known to cause NMD\n",
       "exon:chr19:9737459-9737536:+        Splicing not known to cause NMD\n",
       "exon:chr15:49923197-49923255:+      Splicing not known to cause NMD\n",
       "exon:chr3:56672733-56672819:-       Splicing not known to cause NMD\n",
       "exon:chr12:57064058-57064134:-      Splicing not known to cause NMD\n",
       "exon:chr12:125267228-125267373:-    Splicing not known to cause NMD\n",
       "exon:chr2:54212541-54212622:+       Splicing not known to cause NMD\n",
       "exon:chr7:99943566-99943591:+       Splicing not known to cause NMD\n",
       "exon:chr19:21493302-21493429:-      Splicing not known to cause NMD\n",
       "exon:chrX:114372898-114373005:-     Splicing not known to cause NMD\n",
       "exon:chr6:167344523-167344606:-     Splicing not known to cause NMD\n",
       "exon:chr4:845537-845762:-           Splicing not known to cause NMD\n",
       "exon:chr12:105548365-105548480:+    Splicing not known to cause NMD\n",
       "exon:chr19:24274702-24274817:+      Splicing not known to cause NMD\n",
       "exon:chr14:91614141-91614202:+      Splicing not known to cause NMD\n",
       "exon:chr20:45841286-45841411:-      Splicing not known to cause NMD\n",
       "exon:chr5:139059431-139059525:+     Splicing not known to cause NMD\n",
       "exon:chr11:111753859-111753926:+    Splicing not known to cause NMD\n",
       "exon:chr7:152480271-152480327:+     Splicing not known to cause NMD\n",
       "exon:chr16:20749409-20749591:-      Splicing not known to cause NMD\n",
       "exon:chr1:198671515-198671659:+     Splicing not known to cause NMD\n",
       "exon:chr3:121260195-121260326:-     Splicing not known to cause NMD\n",
       "exon:chr2:219591991-219592070:+     Splicing not known to cause NMD\n",
       "exon:chr18:20586298-20586395:+      Splicing not known to cause NMD\n",
       "exon:chr3:186666471-186666726:+     Splicing not known to cause NMD\n",
       "Name: classification, dtype: object"
      ]
     },
     "execution_count": 125,
     "metadata": {},
     "output_type": "execute_result"
    }
   ],
   "source": [
    "nmd_classifications.index.name = 'exon_id'\n",
    "nmd_classifications.name = 'classification'\n",
    "nmd_classifications"
   ]
  },
  {
   "cell_type": "code",
   "execution_count": 126,
   "metadata": {
    "collapsed": false
   },
   "outputs": [
    {
     "data": {
      "text/plain": [
       "classification\n",
       "Splicing not known to cause NMD    1520\n",
       "dtype: int64"
      ]
     },
     "execution_count": 126,
     "metadata": {},
     "output_type": "execute_result"
    }
   ],
   "source": [
    "nmd_classifications.groupby(nmd_classifications.astype(str)).size()"
   ]
  },
  {
   "cell_type": "code",
   "execution_count": 127,
   "metadata": {
    "collapsed": false
   },
   "outputs": [
    {
     "data": {
      "text/html": [
       "<div>\n",
       "<table border=\"1\" class=\"dataframe\">\n",
       "  <thead>\n",
       "    <tr style=\"text-align: right;\">\n",
       "      <th></th>\n",
       "      <th>classification</th>\n",
       "    </tr>\n",
       "    <tr>\n",
       "      <th>exon_id</th>\n",
       "      <th></th>\n",
       "    </tr>\n",
       "  </thead>\n",
       "  <tbody>\n",
       "    <tr>\n",
       "      <th>exon:chr19:49605370-49606844:+</th>\n",
       "      <td>Splicing not known to cause NMD</td>\n",
       "    </tr>\n",
       "    <tr>\n",
       "      <th>exon:chr12:112457543-112457685:+</th>\n",
       "      <td>Splicing not known to cause NMD</td>\n",
       "    </tr>\n",
       "    <tr>\n",
       "      <th>exon:chr1:46775568-46775716:+</th>\n",
       "      <td>Splicing not known to cause NMD</td>\n",
       "    </tr>\n",
       "    <tr>\n",
       "      <th>exon:chr1:46775572-46775716:+</th>\n",
       "      <td>Splicing not known to cause NMD</td>\n",
       "    </tr>\n",
       "    <tr>\n",
       "      <th>exon:chr2:216257653-216257926:-</th>\n",
       "      <td>Splicing not known to cause NMD</td>\n",
       "    </tr>\n",
       "  </tbody>\n",
       "</table>\n",
       "</div>"
      ],
      "text/plain": [
       "                                                   classification\n",
       "exon_id                                                          \n",
       "exon:chr19:49605370-49606844:+    Splicing not known to cause NMD\n",
       "exon:chr12:112457543-112457685:+  Splicing not known to cause NMD\n",
       "exon:chr1:46775568-46775716:+     Splicing not known to cause NMD\n",
       "exon:chr1:46775572-46775716:+     Splicing not known to cause NMD\n",
       "exon:chr2:216257653-216257926:-   Splicing not known to cause NMD"
      ]
     },
     "execution_count": 127,
     "metadata": {},
     "output_type": "execute_result"
    }
   ],
   "source": [
    "nmd_classifications_df = nmd_classifications.to_frame()\n",
    "nmd_classifications_df.columns = ['classification']\n",
    "nmd_classifications_df.head()"
   ]
  },
  {
   "cell_type": "code",
   "execution_count": 128,
   "metadata": {
    "collapsed": false
   },
   "outputs": [
    {
     "data": {
      "text/html": [
       "<div>\n",
       "<table border=\"1\" class=\"dataframe\">\n",
       "  <thead>\n",
       "    <tr style=\"text-align: right;\">\n",
       "      <th></th>\n",
       "      <th>classification</th>\n",
       "    </tr>\n",
       "    <tr>\n",
       "      <th>exon_id</th>\n",
       "      <th></th>\n",
       "    </tr>\n",
       "  </thead>\n",
       "  <tbody>\n",
       "  </tbody>\n",
       "</table>\n",
       "</div>"
      ],
      "text/plain": [
       "Empty DataFrame\n",
       "Columns: [classification]\n",
       "Index: []"
      ]
     },
     "execution_count": 128,
     "metadata": {},
     "output_type": "execute_result"
    }
   ],
   "source": [
    "nmd_classifications_df.query('classification == \"Exclusion causes NMD (annotated)\"')"
   ]
  },
  {
   "cell_type": "code",
   "execution_count": 129,
   "metadata": {
    "collapsed": false
   },
   "outputs": [
    {
     "data": {
      "text/html": [
       "<div>\n",
       "<table border=\"1\" class=\"dataframe\">\n",
       "  <thead>\n",
       "    <tr style=\"text-align: right;\">\n",
       "      <th></th>\n",
       "      <th>classification</th>\n",
       "    </tr>\n",
       "    <tr>\n",
       "      <th>exon_id</th>\n",
       "      <th></th>\n",
       "    </tr>\n",
       "  </thead>\n",
       "  <tbody>\n",
       "  </tbody>\n",
       "</table>\n",
       "</div>"
      ],
      "text/plain": [
       "Empty DataFrame\n",
       "Columns: [classification]\n",
       "Index: []"
      ]
     },
     "execution_count": 129,
     "metadata": {},
     "output_type": "execute_result"
    }
   ],
   "source": [
    "nmd_classifications_df.query('classification == \"Exclusion causes NMD (found stop codon)\"')"
   ]
  },
  {
   "cell_type": "code",
   "execution_count": 130,
   "metadata": {
    "collapsed": false
   },
   "outputs": [
    {
     "data": {
      "text/html": [
       "<div>\n",
       "<table border=\"1\" class=\"dataframe\">\n",
       "  <thead>\n",
       "    <tr style=\"text-align: right;\">\n",
       "      <th></th>\n",
       "      <th>classification</th>\n",
       "    </tr>\n",
       "    <tr>\n",
       "      <th>exon_id</th>\n",
       "      <th></th>\n",
       "    </tr>\n",
       "  </thead>\n",
       "  <tbody>\n",
       "  </tbody>\n",
       "</table>\n",
       "</div>"
      ],
      "text/plain": [
       "Empty DataFrame\n",
       "Columns: [classification]\n",
       "Index: []"
      ]
     },
     "execution_count": 130,
     "metadata": {},
     "output_type": "execute_result"
    }
   ],
   "source": [
    "nmd_classifications_df.query('classification == \"Inclusion causes NMD (annotated)\"')"
   ]
  },
  {
   "cell_type": "code",
   "execution_count": 131,
   "metadata": {
    "collapsed": false
   },
   "outputs": [
    {
     "data": {
      "text/html": [
       "<div>\n",
       "<table border=\"1\" class=\"dataframe\">\n",
       "  <thead>\n",
       "    <tr style=\"text-align: right;\">\n",
       "      <th></th>\n",
       "      <th>classification</th>\n",
       "    </tr>\n",
       "    <tr>\n",
       "      <th>exon_id</th>\n",
       "      <th></th>\n",
       "    </tr>\n",
       "  </thead>\n",
       "  <tbody>\n",
       "  </tbody>\n",
       "</table>\n",
       "</div>"
      ],
      "text/plain": [
       "Empty DataFrame\n",
       "Columns: [classification]\n",
       "Index: []"
      ]
     },
     "execution_count": 131,
     "metadata": {},
     "output_type": "execute_result"
    }
   ],
   "source": [
    "nmd_classifications_df.query('classification == \"Inclusion causes NMD (found stop codon)\"')"
   ]
  },
  {
   "cell_type": "code",
   "execution_count": 132,
   "metadata": {
    "collapsed": false
   },
   "outputs": [
    {
     "data": {
      "text/html": [
       "<div>\n",
       "<table border=\"1\" class=\"dataframe\">\n",
       "  <thead>\n",
       "    <tr style=\"text-align: right;\">\n",
       "      <th></th>\n",
       "      <th>classification</th>\n",
       "    </tr>\n",
       "    <tr>\n",
       "      <th>exon_id</th>\n",
       "      <th></th>\n",
       "    </tr>\n",
       "  </thead>\n",
       "  <tbody>\n",
       "  </tbody>\n",
       "</table>\n",
       "</div>"
      ],
      "text/plain": [
       "Empty DataFrame\n",
       "Columns: [classification]\n",
       "Index: []"
      ]
     },
     "execution_count": 132,
     "metadata": {},
     "output_type": "execute_result"
    }
   ],
   "source": [
    "nmd_classifications_df.loc[nmd_classifications_df['classification'].isnull()].head()"
   ]
  },
  {
   "cell_type": "code",
   "execution_count": 133,
   "metadata": {
    "collapsed": true
   },
   "outputs": [],
   "source": [
    "# nmd_classifications_df.to_csv('correlated_actual_filtered_classifications.csv')\n",
    "# nmd_classifications_df.to_csv('events_beyond_cutoff_classifications.csv')\n",
    "# nmd_classifications_df.to_csv('events_beyond_cutoff_ipsc_npc_mn_classifications.csv')\n",
    "\n",
    "# nmd_classifications_df.to_csv('HepG2_JunctionCountOnly_classifications.csv')\n",
    "# nmd_classifications_df.to_csv('HepG2_ReadsOnTargetAndJunctionCounts_classifications.csv')\n",
    "# nmd_classifications_df.to_csv('K562_JunctionCountOnly_classifications.csv')\n",
    "nmd_classifications_df.to_csv('K562_ReadsOnTargetAndJunctionCounts_classifications.csv')"
   ]
  },
  {
   "cell_type": "code",
   "execution_count": null,
   "metadata": {
    "collapsed": false
   },
   "outputs": [],
   "source": [
    "%pdb"
   ]
  },
  {
   "cell_type": "code",
   "execution_count": null,
   "metadata": {
    "collapsed": false,
    "scrolled": false
   },
   "outputs": [],
   "source": [
    "nmd_exons._is_this_exon_nmd('exon:chr3:42661508-42661535:+')"
   ]
  },
  {
   "cell_type": "code",
   "execution_count": null,
   "metadata": {
    "collapsed": false
   },
   "outputs": [],
   "source": [
    "list(nmd_exons.db.region('chr17:57962021-57962118', featuretype=('exon','CDS')))"
   ]
  },
  {
   "cell_type": "code",
   "execution_count": null,
   "metadata": {
    "collapsed": false
   },
   "outputs": [],
   "source": [
    "hi = (\"start\",\"firstcds\",\"1stexon\",\"inter\",\"lastexon\")"
   ]
  },
  {
   "cell_type": "code",
   "execution_count": null,
   "metadata": {
    "collapsed": false
   },
   "outputs": [],
   "source": [
    "print(hi[2])\n",
    "print(hi[-1])"
   ]
  },
  {
   "cell_type": "code",
   "execution_count": null,
   "metadata": {
    "collapsed": true
   },
   "outputs": [],
   "source": [
    "hi = (\"1stexon\",\"inter\",\"lastexon\",'firstcds',\"start\")"
   ]
  },
  {
   "cell_type": "code",
   "execution_count": null,
   "metadata": {
    "collapsed": false
   },
   "outputs": [],
   "source": [
    "print(hi[0])\n",
    "print(hi[-3])"
   ]
  },
  {
   "cell_type": "code",
   "execution_count": null,
   "metadata": {
    "collapsed": false
   },
   "outputs": [],
   "source": [
    "print(hi)"
   ]
  },
  {
   "cell_type": "code",
   "execution_count": null,
   "metadata": {
    "collapsed": true
   },
   "outputs": [],
   "source": [
    "sd = hi[1]"
   ]
  },
  {
   "cell_type": "code",
   "execution_count": null,
   "metadata": {
    "collapsed": true
   },
   "outputs": [],
   "source": [
    "hi = list(hi)"
   ]
  },
  {
   "cell_type": "code",
   "execution_count": null,
   "metadata": {
    "collapsed": false
   },
   "outputs": [],
   "source": [
    "print(hi)"
   ]
  },
  {
   "cell_type": "code",
   "execution_count": null,
   "metadata": {
    "collapsed": false
   },
   "outputs": [],
   "source": [
    "print(sd)"
   ]
  },
  {
   "cell_type": "code",
   "execution_count": null,
   "metadata": {
    "collapsed": false
   },
   "outputs": [],
   "source": [
    "hi.remove(sd)"
   ]
  },
  {
   "cell_type": "code",
   "execution_count": null,
   "metadata": {
    "collapsed": false
   },
   "outputs": [],
   "source": [
    "print(hi)"
   ]
  },
  {
   "cell_type": "code",
   "execution_count": null,
   "metadata": {
    "collapsed": true
   },
   "outputs": [],
   "source": [
    "rl = tuple(hi)"
   ]
  },
  {
   "cell_type": "code",
   "execution_count": null,
   "metadata": {
    "collapsed": false
   },
   "outputs": [],
   "source": [
    "print(rl)"
   ]
  },
  {
   "cell_type": "code",
   "execution_count": null,
   "metadata": {
    "collapsed": false
   },
   "outputs": [],
   "source": [
    "len([1,2])"
   ]
  }
 ],
 "metadata": {
  "kernelspec": {
   "display_name": "Python 3",
   "language": "python",
   "name": "python3"
  },
  "language_info": {
   "codemirror_mode": {
    "name": "ipython",
    "version": 3
   },
   "file_extension": ".py",
   "mimetype": "text/x-python",
   "name": "python",
   "nbconvert_exporter": "python",
   "pygments_lexer": "ipython3",
   "version": "3.5.1"
  }
 },
 "nbformat": 4,
 "nbformat_minor": 0
}
