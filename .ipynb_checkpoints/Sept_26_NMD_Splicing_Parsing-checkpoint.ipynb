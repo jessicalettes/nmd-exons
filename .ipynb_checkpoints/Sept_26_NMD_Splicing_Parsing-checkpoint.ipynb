{
 "cells": [
  {
   "cell_type": "code",
   "execution_count": 17,
   "metadata": {
    "collapsed": true
   },
   "outputs": [],
   "source": [
    "#imports\n",
    "#for gffutils database\n",
    "import gffutils\n",
    "\n",
    "#for pandas data frame\n",
    "import pandas as pd\n",
    "\n",
    "DBHuman = gffutils.FeatureDB('/Users/rhythmicstar/projects/exon_evolution//gencode.v19.annotation.gtf.db', \n",
    "                            keep_order=True)"
   ]
  },
  {
   "cell_type": "markdown",
   "metadata": {},
   "source": [
    "Make df with splicing data"
   ]
  },
  {
   "cell_type": "code",
   "execution_count": 18,
   "metadata": {
    "collapsed": false
   },
   "outputs": [
    {
     "data": {
      "text/html": [
       "<div>\n",
       "<table border=\"1\" class=\"dataframe\">\n",
       "  <thead>\n",
       "    <tr style=\"text-align: right;\">\n",
       "      <th></th>\n",
       "      <th>isoform1</th>\n",
       "      <th>isoform2</th>\n",
       "      <th>exon</th>\n",
       "      <th>junction</th>\n",
       "      <th>chrom</th>\n",
       "      <th>strand</th>\n",
       "    </tr>\n",
       "  </thead>\n",
       "  <tbody>\n",
       "    <tr>\n",
       "      <th>0</th>\n",
       "      <td>chr16:29383506-29484368</td>\n",
       "      <td>chr16:29383506-29383883</td>\n",
       "      <td>chr16:29383884-29383940</td>\n",
       "      <td>chr16:29383941-29484368</td>\n",
       "      <td>chr16</td>\n",
       "      <td>+</td>\n",
       "    </tr>\n",
       "    <tr>\n",
       "      <th>1</th>\n",
       "      <td>chr9:137102499-137103363</td>\n",
       "      <td>chr9:137102499-137103132</td>\n",
       "      <td>chr9:137103133-137103170</td>\n",
       "      <td>chr9:137103171-137103363</td>\n",
       "      <td>chr9</td>\n",
       "      <td>+</td>\n",
       "    </tr>\n",
       "    <tr>\n",
       "      <th>2</th>\n",
       "      <td>chr16:21404089-21404856</td>\n",
       "      <td>chr16:21404089-21404157</td>\n",
       "      <td>chr16:21404158-21404184</td>\n",
       "      <td>chr16:21404185-21404856</td>\n",
       "      <td>chr16</td>\n",
       "      <td>+</td>\n",
       "    </tr>\n",
       "    <tr>\n",
       "      <th>3</th>\n",
       "      <td>chr2:97198492-97209680</td>\n",
       "      <td>chr2:97198492-97200333</td>\n",
       "      <td>chr2:97200334-97200362</td>\n",
       "      <td>chr2:97200363-97209680</td>\n",
       "      <td>chr2</td>\n",
       "      <td>+</td>\n",
       "    </tr>\n",
       "    <tr>\n",
       "      <th>4</th>\n",
       "      <td>chr10:12149962-12156906</td>\n",
       "      <td>chr10:12149962-12155777</td>\n",
       "      <td>chr10:12155778-12155931</td>\n",
       "      <td>chr10:12155932-12156906</td>\n",
       "      <td>chr10</td>\n",
       "      <td>+</td>\n",
       "    </tr>\n",
       "    <tr>\n",
       "      <th>5</th>\n",
       "      <td>chr6:138921125-138929976</td>\n",
       "      <td>chr6:138926482-138929976</td>\n",
       "      <td>chr6:138926401-138926481</td>\n",
       "      <td>chr6:138921125-138926400</td>\n",
       "      <td>chr6</td>\n",
       "      <td>-</td>\n",
       "    </tr>\n",
       "    <tr>\n",
       "      <th>6</th>\n",
       "      <td>chr9:112694234-112716460</td>\n",
       "      <td>chr9:112701881-112716460</td>\n",
       "      <td>chr9:112701788-112701880</td>\n",
       "      <td>chr9:112694234-112701787</td>\n",
       "      <td>chr9</td>\n",
       "      <td>-</td>\n",
       "    </tr>\n",
       "    <tr>\n",
       "      <th>7</th>\n",
       "      <td>chr20:63700703-63702135</td>\n",
       "      <td>chr20:63701896-63702135</td>\n",
       "      <td>chr20:63701830-63701895</td>\n",
       "      <td>chr20:63700703-63701829</td>\n",
       "      <td>chr20</td>\n",
       "      <td>-</td>\n",
       "    </tr>\n",
       "    <tr>\n",
       "      <th>8</th>\n",
       "      <td>chr9:137102898-137103321</td>\n",
       "      <td>chr9:137102898-137103019</td>\n",
       "      <td>chr9:137103020-137103057</td>\n",
       "      <td>chr9:137103058-137103321</td>\n",
       "      <td>chr9</td>\n",
       "      <td>+</td>\n",
       "    </tr>\n",
       "    <tr>\n",
       "      <th>9</th>\n",
       "      <td>chr14:50161610-50180571</td>\n",
       "      <td>chr14:50174553-50180571</td>\n",
       "      <td>chr14:50174454-50174552</td>\n",
       "      <td>chr14:50161610-50174453</td>\n",
       "      <td>chr14</td>\n",
       "      <td>-</td>\n",
       "    </tr>\n",
       "    <tr>\n",
       "      <th>10</th>\n",
       "      <td></td>\n",
       "      <td></td>\n",
       "      <td>chr3:186502751-186502891</td>\n",
       "      <td></td>\n",
       "      <td>chr3</td>\n",
       "      <td></td>\n",
       "    </tr>\n",
       "    <tr>\n",
       "      <th>11</th>\n",
       "      <td></td>\n",
       "      <td></td>\n",
       "      <td>chr3:186506099-186506205</td>\n",
       "      <td></td>\n",
       "      <td>chr3</td>\n",
       "      <td></td>\n",
       "    </tr>\n",
       "    <tr>\n",
       "      <th>12</th>\n",
       "      <td></td>\n",
       "      <td></td>\n",
       "      <td>chr8:109213972-109260959</td>\n",
       "      <td></td>\n",
       "      <td></td>\n",
       "      <td></td>\n",
       "    </tr>\n",
       "    <tr>\n",
       "      <th>13</th>\n",
       "      <td></td>\n",
       "      <td></td>\n",
       "      <td>chr2:191745547-191830270</td>\n",
       "      <td></td>\n",
       "      <td></td>\n",
       "      <td></td>\n",
       "    </tr>\n",
       "    <tr>\n",
       "      <th>14</th>\n",
       "      <td></td>\n",
       "      <td></td>\n",
       "      <td>chr3:196662273-196669464</td>\n",
       "      <td></td>\n",
       "      <td></td>\n",
       "      <td></td>\n",
       "    </tr>\n",
       "    <tr>\n",
       "      <th>15</th>\n",
       "      <td></td>\n",
       "      <td></td>\n",
       "      <td>chr9:100395705-100436029</td>\n",
       "      <td></td>\n",
       "      <td></td>\n",
       "      <td></td>\n",
       "    </tr>\n",
       "    <tr>\n",
       "      <th>16</th>\n",
       "      <td></td>\n",
       "      <td></td>\n",
       "      <td>chr8:101715144-101734315</td>\n",
       "      <td></td>\n",
       "      <td></td>\n",
       "      <td></td>\n",
       "    </tr>\n",
       "  </tbody>\n",
       "</table>\n",
       "</div>"
      ],
      "text/plain": [
       "                    isoform1                  isoform2  \\\n",
       "0    chr16:29383506-29484368   chr16:29383506-29383883   \n",
       "1   chr9:137102499-137103363  chr9:137102499-137103132   \n",
       "2    chr16:21404089-21404856   chr16:21404089-21404157   \n",
       "3     chr2:97198492-97209680    chr2:97198492-97200333   \n",
       "4    chr10:12149962-12156906   chr10:12149962-12155777   \n",
       "5   chr6:138921125-138929976  chr6:138926482-138929976   \n",
       "6   chr9:112694234-112716460  chr9:112701881-112716460   \n",
       "7    chr20:63700703-63702135   chr20:63701896-63702135   \n",
       "8   chr9:137102898-137103321  chr9:137102898-137103019   \n",
       "9    chr14:50161610-50180571   chr14:50174553-50180571   \n",
       "10                                                       \n",
       "11                                                       \n",
       "12                                                       \n",
       "13                                                       \n",
       "14                                                       \n",
       "15                                                       \n",
       "16                                                       \n",
       "\n",
       "                        exon                  junction  chrom strand  \n",
       "0    chr16:29383884-29383940   chr16:29383941-29484368  chr16      +  \n",
       "1   chr9:137103133-137103170  chr9:137103171-137103363   chr9      +  \n",
       "2    chr16:21404158-21404184   chr16:21404185-21404856  chr16      +  \n",
       "3     chr2:97200334-97200362    chr2:97200363-97209680   chr2      +  \n",
       "4    chr10:12155778-12155931   chr10:12155932-12156906  chr10      +  \n",
       "5   chr6:138926401-138926481  chr6:138921125-138926400   chr6      -  \n",
       "6   chr9:112701788-112701880  chr9:112694234-112701787   chr9      -  \n",
       "7    chr20:63701830-63701895   chr20:63700703-63701829  chr20      -  \n",
       "8   chr9:137103020-137103057  chr9:137103058-137103321   chr9      +  \n",
       "9    chr14:50174454-50174552   chr14:50161610-50174453  chr14      -  \n",
       "10  chr3:186502751-186502891                             chr3         \n",
       "11  chr3:186506099-186506205                             chr3         \n",
       "12  chr8:109213972-109260959                                          \n",
       "13  chr2:191745547-191830270                                          \n",
       "14  chr3:196662273-196669464                                          \n",
       "15  chr9:100395705-100436029                                          \n",
       "16  chr8:101715144-101734315                                          "
      ]
     },
     "execution_count": 18,
     "metadata": {},
     "output_type": "execute_result"
    }
   ],
   "source": [
    "splicing_data = pd.read_csv('/Users/rhythmicstar/ipython_notebook/nmd/example_splicing.bed', header=None, sep='\\s+')\n",
    "index = pd.Index(splicing_data[3])\n",
    "event_ids = pd.Series(index, name='event_id')\n",
    "event_ids_df = event_ids.to_frame()\n",
    "event_ids_df['isoform1'] = splicing_data[3].map(lambda x: x.split('|')[0].split('junction:')[1][:-2])\n",
    "event_ids_df['isoform2'] = splicing_data[3].map(lambda x: x.split('isoform2=junction:')[1].split('@')[0][:-2])\n",
    "event_ids_df['exon'] = splicing_data[3].map(lambda x: x.split('exon:')[1].split('@')[0][:-2])\n",
    "event_ids_df['junction'] = splicing_data[3].map(lambda x: x.split('@junction:')[1].split(' ')[0][:-2])\n",
    "event_ids_df['chrom'] = splicing_data[3].map(lambda x: x.split(':')[4])\n",
    "event_ids_df['strand'] = splicing_data[3].map(lambda x: x.split(':')[3].split('|')[0])\n",
    "event_ids_df = event_ids_df[['isoform1', 'isoform2', 'exon', 'junction', 'chrom', 'strand']]\n",
    "event_ids_df\n",
    "asout_df = pd.DataFrame([['', '', 'chr3:186502751-186502891', '', 'chr3', '']], columns=list(['isoform1','isoform2','exon', 'junction', 'chrom', 'strand']))\n",
    "asin_df = pd.DataFrame([['', '', 'chr3:186506099-186506205', '', 'chr3', '']], columns=list(['isoform1','isoform2','exon', 'junction', 'chrom', 'strand']))\n",
    "\n",
    "c = pd.DataFrame([['', '', 'chr8:109213972-109260959', '', '', '']], columns=list(['isoform1','isoform2','exon', 'junction', 'chrom', 'strand']))\n",
    "d = pd.DataFrame([['', '', 'chr2:191745547-191830270', '', '', '']], columns=list(['isoform1','isoform2','exon', 'junction', 'chrom', 'strand']))\n",
    "e = pd.DataFrame([['', '', 'chr3:196662273-196669464', '', '', '']], columns=list(['isoform1','isoform2','exon', 'junction', 'chrom', 'strand']))\n",
    "f = pd.DataFrame([['', '', 'chr9:100395705-100436029', '', '', '']], columns=list(['isoform1','isoform2','exon', 'junction', 'chrom', 'strand']))\n",
    "g = pd.DataFrame([['', '', 'chr8:101715144-101734315', '', '', '']], columns=list(['isoform1','isoform2','exon', 'junction', 'chrom', 'strand']))\n",
    "event_ids_df = event_ids_df.append([asout_df, asin_df, c, d, e, f, g], ignore_index=True)\n",
    "event_ids_df"
   ]
  },
  {
   "cell_type": "code",
   "execution_count": null,
   "metadata": {
    "collapsed": false,
    "scrolled": false
   },
   "outputs": [
    {
     "name": "stdout",
     "output_type": "stream",
     "text": [
      "exon: chr14:50174454-50174552\n",
      "exon: chr3:186502751-186502891\n",
      "exon: chr3:186506099-186506205\n",
      "\t\t stop_codon_15984\n",
      "\t\t\t\tExon (exon_270388) is an NMD exon\n",
      "\t\t\t\texon start:  186506099\n",
      "\t\t\t\texon end:  186506205\n",
      "\t\t\t\tstop_codon start:  186506106\n",
      "\t\t\t\tstop_codon end:  186506108\n",
      "exon: chr8:109213972-109260959\n",
      "\t\t stop_codon_31502\n",
      "\t\t\t\tExon (exon_516382) is an NMD exon\n",
      "\t\t\t\texon start:  109252187\n",
      "\t\t\t\texon end:  109252327\n",
      "\t\t\t\tstop_codon start:  109252305\n",
      "\t\t\t\tstop_codon end:  109252307\n",
      "\t\t stop_codon_31504\n",
      "\t\t\t\tExon (exon_516402) is an NMD exon\n",
      "\t\t\t\texon start:  109254341\n",
      "\t\t\t\texon end:  109254575\n",
      "\t\t\t\tstop_codon start:  109254528\n",
      "\t\t\t\tstop_codon end:  109254530\n",
      "\t\t"
     ]
    }
   ],
   "source": [
    "for index_splicing in range(9, event_ids_df.shape[0]):\n",
    "    location = event_ids_df.loc[index_splicing, 'exon']\n",
    "    print('exon:', location)\n",
    "    for index, human_exon in enumerate(DBHuman.features_of_type(('exon'), limit=location)):\n",
    "        if (human_exon['transcript_type']==[\"nonsense_mediated_decay\"]):\n",
    "            #print('\\t', str(human_exon['exon_id']))\n",
    "            for stop_codon in DBHuman.children(human_exon['gene_id'][0], featuretype='stop_codon'):\n",
    "                #print('\\t\\t', stop_codon.id)\n",
    "                if stop_codon.strand == '+':\n",
    "                    #print(\"\\t\\t\\tPositive strand\")\n",
    "                    if (stop_codon.start>=human_exon.start and stop_codon.end<=human_exon.end and stop_codon.end+50<human_exon.end):\n",
    "                        print(\"\\t\\t\", stop_codon.id)\n",
    "                        print(\"\\t\\t\\t\\tExon ({exon}) is an NMD exon\".format(exon=human_exon.id))\n",
    "                        print(\"\\t\\t\\t\\texon start: \", human_exon.start)\n",
    "                        print(\"\\t\\t\\t\\texon end: \", human_exon.end)\n",
    "                        print(\"\\t\\t\\t\\tstop_codon start: \", stop_codon.start)\n",
    "                        print(\"\\t\\t\\t\\tstop_codon end: \", stop_codon.end)\n",
    "                        human_exon_id = str(human_exon['exon_id']).split(\"'\")[1]\n",
    "                if stop_codon.strand == '-':\n",
    "                    #print(\"\\t\\t\\tNegative strand\")\n",
    "                    if (stop_codon.start>=human_exon.start and stop_codon.end<=human_exon.end and human_exon.start+50<stop_codon.start):\n",
    "                        print(\"\\t\\t\", stop_codon.id)\n",
    "                        print(\"\\t\\t\\t\\tExon ({exon}) is an NMD exon\".format(exon=human_exon.id))\n",
    "                        print(\"\\t\\t\\t\\texon start: \", human_exon.start)\n",
    "                        print(\"\\t\\t\\t\\texon end: \", human_exon.end)\n",
    "                        print(\"\\t\\t\\t\\tstop_codon start: \", stop_codon.start)\n",
    "                        print(\"\\t\\t\\t\\tstop_codon end: \", stop_codon.end)\n",
    "                        human_exon_id = str(human_exon['exon_id']).split(\"'\")[1]"
   ]
  },
  {
   "cell_type": "code",
   "execution_count": 7,
   "metadata": {
    "collapsed": false
   },
   "outputs": [
    {
     "data": {
      "text/plain": [
       "'+'"
      ]
     },
     "execution_count": 7,
     "metadata": {},
     "output_type": "execute_result"
    }
   ],
   "source": [
    "stop_codon.strand"
   ]
  },
  {
   "cell_type": "code",
   "execution_count": 8,
   "metadata": {
    "collapsed": false
   },
   "outputs": [
    {
     "data": {
      "text/plain": [
       "'+'"
      ]
     },
     "execution_count": 8,
     "metadata": {},
     "output_type": "execute_result"
    }
   ],
   "source": [
    "human_exon.strand"
   ]
  },
  {
   "cell_type": "code",
   "execution_count": 13,
   "metadata": {
    "collapsed": false
   },
   "outputs": [
    {
     "data": {
      "text/plain": [
       "['ENSG00000156976.10']"
      ]
     },
     "execution_count": 13,
     "metadata": {},
     "output_type": "execute_result"
    }
   ],
   "source": [
    "human_exon['gene_id']"
   ]
  },
  {
   "cell_type": "code",
   "execution_count": 14,
   "metadata": {
    "collapsed": false
   },
   "outputs": [
    {
     "data": {
      "text/plain": [
       "[('transcript_status', ['KNOWN']),\n",
       " ('gene_id', ['ENSG00000156976.10']),\n",
       " ('transcript_id', ['ENST00000494445.1']),\n",
       " ('havana_gene', ['OTTHUMG00000156564.2']),\n",
       " ('havana_transcript', ['OTTHUMT00000344633.1']),\n",
       " ('gene_status', ['KNOWN']),\n",
       " ('exon_id', ['ENSE00001886374.1']),\n",
       " ('exon_number', ['3']),\n",
       " ('gene_name', ['EIF4A2']),\n",
       " ('transcript_type', ['retained_intron']),\n",
       " ('transcript_name', ['EIF4A2-025']),\n",
       " ('gene_type', ['protein_coding']),\n",
       " ('level', ['2'])]"
      ]
     },
     "execution_count": 14,
     "metadata": {},
     "output_type": "execute_result"
    }
   ],
   "source": [
    "human_exon.attributes.items()"
   ]
  },
  {
   "cell_type": "code",
   "execution_count": 8,
   "metadata": {
    "collapsed": false
   },
   "outputs": [
    {
     "data": {
      "text/plain": [
       "'ENSG00000156976.10'"
      ]
     },
     "execution_count": 8,
     "metadata": {},
     "output_type": "execute_result"
    }
   ],
   "source": [
    "human_exon['gene_id'][0]"
   ]
  },
  {
   "cell_type": "code",
   "execution_count": 6,
   "metadata": {
    "collapsed": false
   },
   "outputs": [
    {
     "data": {
      "text/plain": [
       "\"['ENSG00000156976.10']\""
      ]
     },
     "execution_count": 6,
     "metadata": {},
     "output_type": "execute_result"
    }
   ],
   "source": [
    "str(human_exon['gene_id'])"
   ]
  },
  {
   "cell_type": "code",
   "execution_count": 11,
   "metadata": {
    "collapsed": false
   },
   "outputs": [
    {
     "data": {
      "text/plain": [
       "[<Feature stop_codon (chr3:186507056-186507058[+]) at 0x10638ef60>,\n",
       " <Feature stop_codon (chr3:186503752-186503754[+]) at 0x10638ef28>,\n",
       " <Feature stop_codon (chr3:186503752-186503754[+]) at 0x10638ef98>,\n",
       " <Feature stop_codon (chr3:186506106-186506108[+]) at 0x10638e780>,\n",
       " <Feature stop_codon (chr3:186507056-186507058[+]) at 0x103c6fbe0>,\n",
       " <Feature stop_codon (chr3:186503752-186503754[+]) at 0x1063f0b00>,\n",
       " <Feature stop_codon (chr3:186507056-186507058[+]) at 0x1063f08d0>]"
      ]
     },
     "execution_count": 11,
     "metadata": {},
     "output_type": "execute_result"
    }
   ],
   "source": [
    "list(DBHuman.children(human_exon['gene_id'][0], featuretype='stop_codon'))"
   ]
  },
  {
   "cell_type": "code",
   "execution_count": 17,
   "metadata": {
    "collapsed": true
   },
   "outputs": [],
   "source": [
    "# get transcripts from exon ids.\n",
    "# get sequences of exons\n",
    "# find location where stop codon UGC and collect those that have stop\n",
    "#     greater than 50nt from splice junction\n",
    "# probably store these transcript ids"
   ]
  },
  {
   "cell_type": "code",
   "execution_count": 12,
   "metadata": {
    "collapsed": false
   },
   "outputs": [
    {
     "data": {
      "text/plain": [
       "['nonsense_mediated_decay']"
      ]
     },
     "execution_count": 12,
     "metadata": {},
     "output_type": "execute_result"
    }
   ],
   "source": [
    "[\"nonsense_mediated_decay\"]"
   ]
  },
  {
   "cell_type": "code",
   "execution_count": null,
   "metadata": {
    "collapsed": true
   },
   "outputs": [],
   "source": [
    "# splicing_data = pd.read_csv('/Users/rhythmicstar/ipython_notebook/nmd/example_splicing.bed', \n",
    "#                             names=['string'], header=-1, sep='\\t')\n",
    "# print(splicing_data.shape)\n",
    "# splicing_data.head()\n",
    "\n",
    "\n",
    "# def split_at_isoform1(row):\n",
    "#     return row['string'].split('|')[0].split('junction:')[1][:-2]\n",
    "\n",
    "# def split_at_isoform2(row):\n",
    "#     return row['string'].split('isoform2=junction:')[1].split('@')[0][:-2]\n",
    "\n",
    "# def split_at_exon(row):\n",
    "#     return row['string'].split('exon:')[1].split('@')[0][:-2]\n",
    "\n",
    "# def split_at_junction(row):\n",
    "#     return row['string'].split('@junction:')[1].split(' ')[0][:-2]\n",
    "\n",
    "# def chrom(row):\n",
    "#     return row['string'].split(':')[4]\n",
    "\n",
    "# def strand(row):\n",
    "#     return row['string'].split(':')[3].split('|')[0]\n",
    "\n",
    "# event_ids_df['isoform1'] = event_ids_df['event_id'].map(lambda x: x.split('|')[0])\n",
    "\n",
    "\n",
    "\n",
    "\n",
    "# splicing_data['isoform1'] = splicing_data.apply(split_at_isoform1, axis=1)\n",
    "# splicing_data['isoform2'] = splicing_data.apply(split_at_isoform2, axis=1)\n",
    "# splicing_data['exon'] = splicing_data.apply(split_at_exon, axis=1)\n",
    "# splicing_data['junction'] = splicing_data.apply(split_at_junction, axis=1)\n",
    "# splicing_data['chrom'] = splicing_data.apply(chrom, axis=1)\n",
    "# splicing_data['strand'] = splicing_data.apply(strand, axis=1)\n",
    "# splicing_data = splicing_data[['isoform1', 'isoform2', 'exon', 'junction', 'chrom', 'strand']]\n",
    "# splicing_data"
   ]
  }
 ],
 "metadata": {
  "kernelspec": {
   "display_name": "Python 3",
   "language": "python",
   "name": "python3"
  },
  "language_info": {
   "codemirror_mode": {
    "name": "ipython",
    "version": 3
   },
   "file_extension": ".py",
   "mimetype": "text/x-python",
   "name": "python",
   "nbconvert_exporter": "python",
   "pygments_lexer": "ipython3",
   "version": "3.5.1"
  }
 },
 "nbformat": 4,
 "nbformat_minor": 0
}
