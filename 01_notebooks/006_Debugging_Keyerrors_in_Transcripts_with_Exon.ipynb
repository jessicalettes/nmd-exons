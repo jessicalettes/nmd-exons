{
 "cells": [
  {
   "cell_type": "code",
   "execution_count": 44,
   "metadata": {
    "collapsed": true
   },
   "outputs": [],
   "source": [
    "import nmd\n",
    "import numpy as np\n",
    "import pandas as pd\n",
    "import common\n",
    "import os"
   ]
  },
  {
   "cell_type": "code",
   "execution_count": 45,
   "metadata": {
    "collapsed": false
   },
   "outputs": [
    {
     "name": "stdout",
     "output_type": "stream",
     "text": [
      "The autoreload extension is already loaded. To reload it, use:\n",
      "  %reload_ext autoreload\n"
     ]
    }
   ],
   "source": [
    "%load_ext autoreload\n",
    "%autoreload 2"
   ]
  },
  {
   "cell_type": "code",
   "execution_count": 51,
   "metadata": {
    "collapsed": false
   },
   "outputs": [
    {
     "name": "stdout",
     "output_type": "stream",
     "text": [
      "mkdir: /Users/rhythmicstar/ipython_notebook/nmd/00_data/006_Debugging_Keyerrors_in_Transcripts_with_Exon: File exists\r\n"
     ]
    }
   ],
   "source": [
    "full_db='/Users/rhythmicstar/projects/exon_evolution/gencode.v19.annotation.outrigger.gtf.db'\n",
    "notebook_prefix = '006_Debugging_Keyerrors_in_Transcripts_with_Exon'\n",
    "data_folder = os.path.join(common.DATA_FOLDER, notebook_prefix)\n",
    "\n",
    "! mkdir $data_folder"
   ]
  },
  {
   "cell_type": "code",
   "execution_count": 52,
   "metadata": {
    "collapsed": false
   },
   "outputs": [
    {
     "name": "stdout",
     "output_type": "stream",
     "text": [
      "(99,)\n"
     ]
    },
    {
     "data": {
      "text/plain": [
       "exon_id\n",
       "exon:chr10:124746850-124747020:+    t_without KeyError (ENST00000406217.2)\n",
       "exon:chr10:75612950-75613004:-         t_with KeyError (ENST00000433289.1)\n",
       "exon:chr10:99239998-99240114:-      t_without KeyError (ENST00000448660.1)\n",
       "exon:chr11:113699566-113699642:-       t_with KeyError (ENST00000537490.1)\n",
       "exon:chr11:18025988-18026082:-      t_without KeyError (ENST00000525920.1)\n",
       "Name: classification, dtype: object"
      ]
     },
     "execution_count": 52,
     "metadata": {},
     "output_type": "execute_result"
    }
   ],
   "source": [
    "input_folder = '005_Generate_Classifications_From_Targets'\n",
    "output_folder = '006_Debugging_Keyerrors_in_Transcripts_with_Exon'\n",
    "csv = os.path.join(common.DATA_FOLDER, input_folder, 'keyerrors.csv')\n",
    "output_csv = os.path.join(common.DATA_FOLDER, output_folder, 'keyerrors_classifications.csv')\n",
    "keyerrors = pd.read_csv(csv, index_col=0, squeeze=True)\n",
    "print(keyerrors.shape)\n",
    "keyerrors.head()"
   ]
  },
  {
   "cell_type": "code",
   "execution_count": 53,
   "metadata": {
    "collapsed": true
   },
   "outputs": [],
   "source": [
    "keyerrors.to_csv(output_csv)"
   ]
  },
  {
   "cell_type": "code",
   "execution_count": 54,
   "metadata": {
    "collapsed": false
   },
   "outputs": [
    {
     "name": "stdout",
     "output_type": "stream",
     "text": [
      "(57,)\n"
     ]
    },
    {
     "data": {
      "text/plain": [
       "exon_id\n",
       "exon:chr10:124746850-124747020:+    t_without KeyError (ENST00000406217.2)\n",
       "exon:chr10:99239998-99240114:-      t_without KeyError (ENST00000448660.1)\n",
       "exon:chr11:18025988-18026082:-      t_without KeyError (ENST00000525920.1)\n",
       "exon:chr11:31477807-31477933:-      t_without KeyError (ENST00000531331.1)\n",
       "exon:chr11:5687211-5687311:-        t_without KeyError (ENST00000438025.1)\n",
       "Name: classification, dtype: object"
      ]
     },
     "execution_count": 54,
     "metadata": {},
     "output_type": "execute_result"
    }
   ],
   "source": [
    "rows = keyerrors.str.contains('without')\n",
    "trans_without = keyerrors[rows]\n",
    "print(trans_without.shape)\n",
    "trans_without.head()"
   ]
  },
  {
   "cell_type": "code",
   "execution_count": 55,
   "metadata": {
    "collapsed": true
   },
   "outputs": [],
   "source": [
    "output_csv = output_csv.replace(\"_classifications.csv\", \"_without_classifications.csv\")\n",
    "trans_without.to_csv(output_csv)"
   ]
  },
  {
   "cell_type": "code",
   "execution_count": 49,
   "metadata": {
    "collapsed": false
   },
   "outputs": [
    {
     "name": "stdout",
     "output_type": "stream",
     "text": [
      "exon:chr10:75612950-75613004:-\n",
      "exon:chr11:113699566-113699642:-\n",
      "exon:chr11:5688919-5688941:-\n",
      "exon:chr11:64882385-64882553:+\n",
      "exon:chr11:70196029-70196145:+\n",
      "exon:chr11:70197100-70197129:+\n",
      "exon:chr12:102576327-102576405:+\n",
      "exon:chr12:32890799-32890876:+\n",
      "exon:chr12:50490633-50490755:+\n",
      "exon:chr12:53861589-53861627:+\n"
     ]
    },
    {
     "ename": "KeyboardInterrupt",
     "evalue": "",
     "output_type": "error",
     "traceback": [
      "\u001b[0;31m---------------------------------------------------------------------------\u001b[0m",
      "\u001b[0;31mKeyboardInterrupt\u001b[0m                         Traceback (most recent call last)",
      "\u001b[0;32m<ipython-input-49-f69f6e82dba8>\u001b[0m in \u001b[0;36m<module>\u001b[0;34m()\u001b[0m\n\u001b[1;32m      1\u001b[0m \u001b[0mnmd_exons\u001b[0m \u001b[0;34m=\u001b[0m \u001b[0mnmd\u001b[0m\u001b[0;34m.\u001b[0m\u001b[0mNMDExons\u001b[0m\u001b[0;34m(\u001b[0m\u001b[0mfull_db\u001b[0m\u001b[0;34m,\u001b[0m \u001b[0mtrans_with\u001b[0m\u001b[0;34m.\u001b[0m\u001b[0mindex\u001b[0m\u001b[0;34m)\u001b[0m\u001b[0;34m\u001b[0m\u001b[0m\n\u001b[0;32m----> 2\u001b[0;31m \u001b[0mnmd_classifications\u001b[0m \u001b[0;34m=\u001b[0m \u001b[0mnmd_exons\u001b[0m\u001b[0;34m.\u001b[0m\u001b[0mfind_nmd_exons\u001b[0m\u001b[0;34m(\u001b[0m\u001b[0;34m)\u001b[0m\u001b[0;34m\u001b[0m\u001b[0m\n\u001b[0m\u001b[1;32m      3\u001b[0m \u001b[0mprint\u001b[0m\u001b[0;34m(\u001b[0m\u001b[0mnmd_classifications\u001b[0m\u001b[0;34m.\u001b[0m\u001b[0mshape\u001b[0m\u001b[0;34m)\u001b[0m\u001b[0;34m\u001b[0m\u001b[0m\n\u001b[1;32m      4\u001b[0m \u001b[0mnmd_classifications\u001b[0m\u001b[0;34m.\u001b[0m\u001b[0mhead\u001b[0m\u001b[0;34m(\u001b[0m\u001b[0;34m)\u001b[0m\u001b[0;34m\u001b[0m\u001b[0m\n",
      "\u001b[0;32m/Users/rhythmicstar/ipython_notebook/nmd/01_notebooks/nmd.py\u001b[0m in \u001b[0;36mfind_nmd_exons\u001b[0;34m(self)\u001b[0m\n\u001b[1;32m     52\u001b[0m \u001b[0;34m\u001b[0m\u001b[0m\n\u001b[1;32m     53\u001b[0m         \u001b[0;32mfor\u001b[0m \u001b[0mexon_id\u001b[0m \u001b[0;32min\u001b[0m \u001b[0mself\u001b[0m\u001b[0;34m.\u001b[0m\u001b[0mexon_ids\u001b[0m\u001b[0;34m:\u001b[0m\u001b[0;34m\u001b[0m\u001b[0m\n\u001b[0;32m---> 54\u001b[0;31m             \u001b[0mnmd\u001b[0m\u001b[0;34m[\u001b[0m\u001b[0mexon_id\u001b[0m\u001b[0;34m]\u001b[0m \u001b[0;34m=\u001b[0m \u001b[0mself\u001b[0m\u001b[0;34m.\u001b[0m\u001b[0m_is_this_exon_nmd\u001b[0m\u001b[0;34m(\u001b[0m\u001b[0mexon_id\u001b[0m\u001b[0;34m)\u001b[0m\u001b[0;34m\u001b[0m\u001b[0m\n\u001b[0m\u001b[1;32m     55\u001b[0m         \u001b[0;32mreturn\u001b[0m \u001b[0mnmd\u001b[0m\u001b[0;34m\u001b[0m\u001b[0m\n\u001b[1;32m     56\u001b[0m \u001b[0;34m\u001b[0m\u001b[0m\n",
      "\u001b[0;32m/Users/rhythmicstar/ipython_notebook/nmd/01_notebooks/nmd.py\u001b[0m in \u001b[0;36m_is_this_exon_nmd\u001b[0;34m(self, exon_id)\u001b[0m\n\u001b[1;32m     73\u001b[0m             \u001b[0mprint\u001b[0m\u001b[0;34m(\u001b[0m\u001b[0mexon_id\u001b[0m\u001b[0;34m)\u001b[0m\u001b[0;34m\u001b[0m\u001b[0m\n\u001b[1;32m     74\u001b[0m             \u001b[0mtranscripts_with_exon\u001b[0m \u001b[0;34m=\u001b[0m \u001b[0mself\u001b[0m\u001b[0;34m.\u001b[0m\u001b[0m_get_transcripts_with_exon\u001b[0m\u001b[0;34m(\u001b[0m\u001b[0mexon\u001b[0m\u001b[0;34m)\u001b[0m\u001b[0;34m\u001b[0m\u001b[0m\n\u001b[0;32m---> 75\u001b[0;31m             \u001b[0mall_transcripts\u001b[0m \u001b[0;34m=\u001b[0m \u001b[0mself\u001b[0m\u001b[0;34m.\u001b[0m\u001b[0m_get_all_transcripts_overlapping_exon\u001b[0m\u001b[0;34m(\u001b[0m\u001b[0mexon\u001b[0m\u001b[0;34m)\u001b[0m\u001b[0;34m\u001b[0m\u001b[0m\n\u001b[0m\u001b[1;32m     76\u001b[0m             \u001b[0mtranscripts_without_exon\u001b[0m \u001b[0;34m=\u001b[0m \u001b[0mall_transcripts\u001b[0m \u001b[0;34m-\u001b[0m \u001b[0mtranscripts_with_exon\u001b[0m\u001b[0;34m\u001b[0m\u001b[0m\n\u001b[1;32m     77\u001b[0m             \u001b[0mexon_strand\u001b[0m \u001b[0;34m=\u001b[0m \u001b[0mexon_id\u001b[0m\u001b[0;34m.\u001b[0m\u001b[0msplit\u001b[0m\u001b[0;34m(\u001b[0m\u001b[0mCOLON\u001b[0m\u001b[0;34m)\u001b[0m\u001b[0;34m[\u001b[0m\u001b[0;36m3\u001b[0m\u001b[0;34m]\u001b[0m\u001b[0;34m\u001b[0m\u001b[0m\n",
      "\u001b[0;32m/Users/rhythmicstar/ipython_notebook/nmd/01_notebooks/nmd.py\u001b[0m in \u001b[0;36m_get_all_transcripts_overlapping_exon\u001b[0;34m(self, exon)\u001b[0m\n\u001b[1;32m    188\u001b[0m         \"\"\"\n\u001b[1;32m    189\u001b[0m         \u001b[0mall_transcripts\u001b[0m \u001b[0;34m=\u001b[0m \u001b[0mOrderedSet\u001b[0m\u001b[0;34m(\u001b[0m\u001b[0;34m)\u001b[0m\u001b[0;34m\u001b[0m\u001b[0m\n\u001b[0;32m--> 190\u001b[0;31m         \u001b[0;32mfor\u001b[0m \u001b[0mtrans\u001b[0m \u001b[0;32min\u001b[0m \u001b[0mself\u001b[0m\u001b[0;34m.\u001b[0m\u001b[0mdb\u001b[0m\u001b[0;34m.\u001b[0m\u001b[0mregion\u001b[0m\u001b[0;34m(\u001b[0m\u001b[0mregion\u001b[0m\u001b[0;34m=\u001b[0m\u001b[0mexon\u001b[0m\u001b[0;34m,\u001b[0m \u001b[0mfeaturetype\u001b[0m\u001b[0;34m=\u001b[0m\u001b[0mTRANSCRIPT\u001b[0m\u001b[0;34m)\u001b[0m\u001b[0;34m:\u001b[0m\u001b[0;34m\u001b[0m\u001b[0m\n\u001b[0m\u001b[1;32m    191\u001b[0m             \u001b[0;32mif\u001b[0m \u001b[0mself\u001b[0m\u001b[0;34m.\u001b[0m\u001b[0m_is_valid_transcript\u001b[0m\u001b[0;34m(\u001b[0m\u001b[0mtrans\u001b[0m\u001b[0;34m)\u001b[0m\u001b[0;34m:\u001b[0m\u001b[0;34m\u001b[0m\u001b[0m\n\u001b[1;32m    192\u001b[0m                 \u001b[0mall_transcripts\u001b[0m\u001b[0;34m.\u001b[0m\u001b[0madd\u001b[0m\u001b[0;34m(\u001b[0m\u001b[0mtrans\u001b[0m\u001b[0;34m[\u001b[0m\u001b[0mTRANSCRIPT_ID\u001b[0m\u001b[0;34m]\u001b[0m\u001b[0;34m[\u001b[0m\u001b[0;36m0\u001b[0m\u001b[0;34m]\u001b[0m\u001b[0;34m)\u001b[0m\u001b[0;34m\u001b[0m\u001b[0m\n",
      "\u001b[0;32m/Users/rhythmicstar/anaconda3/lib/python3.5/site-packages/gffutils/interface.py\u001b[0m in \u001b[0;36mregion\u001b[0;34m(self, region, seqid, start, end, strand, featuretype, completely_within)\u001b[0m\n\u001b[1;32m    620\u001b[0m             \u001b[0;34m'region'\u001b[0m\u001b[0;34m:\u001b[0m \u001b[0mregion\u001b[0m\u001b[0;34m,\u001b[0m\u001b[0;34m\u001b[0m\u001b[0m\n\u001b[1;32m    621\u001b[0m         }\n\u001b[0;32m--> 622\u001b[0;31m         \u001b[0mc\u001b[0m\u001b[0;34m.\u001b[0m\u001b[0mexecute\u001b[0m\u001b[0;34m(\u001b[0m\u001b[0mquery\u001b[0m\u001b[0;34m,\u001b[0m \u001b[0mtuple\u001b[0m\u001b[0;34m(\u001b[0m\u001b[0margs\u001b[0m\u001b[0;34m)\u001b[0m\u001b[0;34m)\u001b[0m\u001b[0;34m\u001b[0m\u001b[0m\n\u001b[0m\u001b[1;32m    623\u001b[0m         \u001b[0;32mfor\u001b[0m \u001b[0mi\u001b[0m \u001b[0;32min\u001b[0m \u001b[0mc\u001b[0m\u001b[0;34m:\u001b[0m\u001b[0;34m\u001b[0m\u001b[0m\n\u001b[1;32m    624\u001b[0m             \u001b[0;32myield\u001b[0m \u001b[0mself\u001b[0m\u001b[0;34m.\u001b[0m\u001b[0m_feature_returner\u001b[0m\u001b[0;34m(\u001b[0m\u001b[0;34m**\u001b[0m\u001b[0mi\u001b[0m\u001b[0;34m)\u001b[0m\u001b[0;34m\u001b[0m\u001b[0m\n",
      "\u001b[0;31mKeyboardInterrupt\u001b[0m: "
     ]
    }
   ],
   "source": [
    "nmd_exons = nmd.NMDExons(full_db, trans_with.index)\n",
    "nmd_classifications = nmd_exons.find_nmd_exons()\n",
    "print(nmd_classifications.shape)\n",
    "nmd_classifications.head()"
   ]
  },
  {
   "cell_type": "code",
   "execution_count": 10,
   "metadata": {
    "collapsed": false
   },
   "outputs": [],
   "source": [
    "exon = nmd_exons.db[\"exon:chr11:113699566-113699642:-\"]"
   ]
  },
  {
   "cell_type": "code",
   "execution_count": 43,
   "metadata": {
    "collapsed": false
   },
   "outputs": [
    {
     "name": "stdout",
     "output_type": "stream",
     "text": [
      "chr11\tHAVANA\texon\t113699566\t113699642\t.\t-\t.\ttag \"mRNA_start_NF,cds_start_NF\"; transcript_status \"KNOWN\"; exon_number \"3\"; location_id \"exon:chr11:113699566-113699642:-\"; level \"2\"; gene_status \"KNOWN\"; gene_id \"ENSG00000048028.7\"; havana_transcript \"OTTHUMT00000398799.1\"; exon_id \"ENSE00002232087.1\"; gene_type \"protein_coding\"; gene_name \"USP28\"; transcript_name \"USP28-013\"; transcript_id \"ENST00000537490.1\"; havana_gene \"OTTHUMG00000168205.1\"; transcript_type \"nonsense_mediated_decay\";\n"
     ]
    }
   ],
   "source": [
    "print(exon)"
   ]
  },
  {
   "cell_type": "code",
   "execution_count": null,
   "metadata": {
    "collapsed": true
   },
   "outputs": [],
   "source": []
  },
  {
   "cell_type": "code",
   "execution_count": null,
   "metadata": {
    "collapsed": true
   },
   "outputs": [],
   "source": [
    "examples_exon_without_errors.csv"
   ]
  }
 ],
 "metadata": {
  "kernelspec": {
   "display_name": "Python 3",
   "language": "python",
   "name": "python3"
  },
  "language_info": {
   "codemirror_mode": {
    "name": "ipython",
    "version": 3
   },
   "file_extension": ".py",
   "mimetype": "text/x-python",
   "name": "python",
   "nbconvert_exporter": "python",
   "pygments_lexer": "ipython3",
   "version": "3.5.3"
  }
 },
 "nbformat": 4,
 "nbformat_minor": 0
}
