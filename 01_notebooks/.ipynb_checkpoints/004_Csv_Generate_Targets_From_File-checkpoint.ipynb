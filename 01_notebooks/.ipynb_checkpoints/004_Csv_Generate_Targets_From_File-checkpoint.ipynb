{
 "cells": [
  {
   "cell_type": "code",
   "execution_count": 32,
   "metadata": {
    "collapsed": true
   },
   "outputs": [],
   "source": [
    "#for pandas data frame\n",
    "import common\n",
    "import glob\n",
    "import os\n",
    "import pandas as pd\n",
    "import seaborn as sns\n",
    "%matplotlib inline"
   ]
  },
  {
   "cell_type": "code",
   "execution_count": 33,
   "metadata": {
    "collapsed": false
   },
   "outputs": [
    {
     "name": "stdout",
     "output_type": "stream",
     "text": [
      "The autoreload extension is already loaded. To reload it, use:\n",
      "  %reload_ext autoreload\n"
     ]
    }
   ],
   "source": [
    "%load_ext autoreload\n",
    "%autoreload 2"
   ]
  },
  {
   "cell_type": "code",
   "execution_count": 34,
   "metadata": {
    "collapsed": false
   },
   "outputs": [
    {
     "name": "stdout",
     "output_type": "stream",
     "text": [
      "mkdir: /Users/rhythmicstar/ipython_notebook/nmd/00_data/004_Csv_Generate_Targets_From_File: File exists\n",
      "mkdir: /Users/rhythmicstar/ipython_notebook/nmd/02_figures/004_Csv_Generate_Targets_From_File: File exists\n"
     ]
    }
   ],
   "source": [
    "notebook_prefix = '004_Csv_Generate_Targets_From_File'\n",
    "data_folder = os.path.join(common.DATA_FOLDER, notebook_prefix)\n",
    "figure_folder = os.path.join(common.FIGURE_FOLDER, notebook_prefix)\n",
    "\n",
    "! mkdir $data_folder\n",
    "! mkdir $figure_folder"
   ]
  },
  {
   "cell_type": "code",
   "execution_count": 35,
   "metadata": {
    "collapsed": false
   },
   "outputs": [],
   "source": [
    "filenames = glob.glob(os.path.join(common.INPUT_FILES_FOLDER, '*'))\n",
    "\n",
    "for filename in filenames:\n",
    "    splicing_data = pd.read_csv(os.path.join(filename))\n",
    "    index = pd.Index(splicing_data['event_id'])\n",
    "    event_ids = pd.Series(index, name='event_id')\n",
    "    event_ids_df = event_ids.to_frame()\n",
    "    event_ids_df['exon'] = splicing_data['event_id'].map(lambda x: x.split('@')[1])\n",
    "    event_ids_df.drop(['event_id'],inplace=True,axis=1)\n",
    "    event_ids_df.drop_duplicates(inplace=True)\n",
    "    event_ids_df = event_ids_df[event_ids_df.exon.str.contains(\"novel\") == False]\n",
    "    csv = os.path.join(data_folder, os.path.basename(filename)).replace('.csv', '_targets.csv')\n",
    "    event_ids_df['exon'].to_csv(csv, index=False)"
   ]
  }
 ],
 "metadata": {
  "kernelspec": {
   "display_name": "Python 3",
   "language": "python",
   "name": "python3"
  },
  "language_info": {
   "codemirror_mode": {
    "name": "ipython",
    "version": 3
   },
   "file_extension": ".py",
   "mimetype": "text/x-python",
   "name": "python",
   "nbconvert_exporter": "python",
   "pygments_lexer": "ipython3",
   "version": "3.5.3"
  }
 },
 "nbformat": 4,
 "nbformat_minor": 0
}
