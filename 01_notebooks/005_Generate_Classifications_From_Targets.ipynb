{
 "cells": [
  {
   "cell_type": "code",
   "execution_count": 1,
   "metadata": {
    "collapsed": false
   },
   "outputs": [],
   "source": [
    "import nmd\n",
    "import csv\n",
    "import numpy as np\n",
    "import pandas as pd\n",
    "import common\n",
    "import os\n",
    "import glob"
   ]
  },
  {
   "cell_type": "code",
   "execution_count": 2,
   "metadata": {
    "collapsed": false
   },
   "outputs": [],
   "source": [
    "%load_ext autoreload\n",
    "%autoreload 2"
   ]
  },
  {
   "cell_type": "code",
   "execution_count": 3,
   "metadata": {
    "collapsed": true
   },
   "outputs": [],
   "source": [
    "full_db ='/Users/rhythmicstar/projects/exon_evolution//gencode.v19.annotation.outrigger.gtf.db'"
   ]
  },
  {
   "cell_type": "code",
   "execution_count": 4,
   "metadata": {
    "collapsed": false
   },
   "outputs": [
    {
     "name": "stdout",
     "output_type": "stream",
     "text": [
      "mkdir: /Users/rhythmicstar/ipython_notebook/nmd/00_data/005_Generate_Classifications_From_Targets: File exists\n",
      "mkdir: /Users/rhythmicstar/ipython_notebook/nmd/02_figures/005_Generate_Classifications_From_Targets: File exists\n"
     ]
    }
   ],
   "source": [
    "notebook_prefix = '005_Generate_Classifications_From_Targets'\n",
    "data_folder = os.path.join(common.DATA_FOLDER, notebook_prefix)\n",
    "figure_folder = os.path.join(common.FIGURE_FOLDER, notebook_prefix)\n",
    "\n",
    "! mkdir $data_folder\n",
    "! mkdir $figure_folder"
   ]
  },
  {
   "cell_type": "code",
   "execution_count": 5,
   "metadata": {
    "collapsed": false
   },
   "outputs": [
    {
     "name": "stdout",
     "output_type": "stream",
     "text": [
      "(2403, 1)\n"
     ]
    }
   ],
   "source": [
    "# all_nmd_targets = pd.DataFrame()\n",
    "dfs = []\n",
    "\n",
    "filenames = glob.glob(os.path.join(common.DATA_FOLDER, '003_Generate_UPF1_Targets', '*'))\n",
    "for filename in filenames:\n",
    "    nmd_targets = pd.read_csv(filename, header=None)\n",
    "    nmd_targets[\"filename_of_origin\"] = os.path.basename(filename)\n",
    "#     all_nmd_targets = all_nmd_targets.append(nmd_targets)\n",
    "    dfs.append(nmd_targets)\n",
    "    \n",
    "filenames = glob.glob(os.path.join(common.DATA_FOLDER, '004_Csv_Generate_Targets_From_File', '*'))\n",
    "for filename in filenames:\n",
    "    nmd_targets = pd.read_csv(filename, header=None)\n",
    "    nmd_targets[\"filename_of_origin\"] = os.path.basename(filename)\n",
    "    dfs.append(nmd_targets)\n",
    "\n",
    "all_nmd_targets = pd.concat(dfs)\n",
    "all_nmd_targets = all_nmd_targets.rename(columns={0: 'exon_id'})\n",
    "all_nmd_targets = all_nmd_targets.set_index('exon_id')\n",
    "all_nmd_targets = all_nmd_targets.sort_index()\n",
    "print(all_nmd_targets.shape)\n",
    "all_nmd_targets.head()\n",
    "filename = 'all_nmd_classifications.csv'"
   ]
  },
  {
   "cell_type": "code",
   "execution_count": 6,
   "metadata": {
    "collapsed": false
   },
   "outputs": [
    {
     "name": "stdout",
     "output_type": "stream",
     "text": [
      "Automatic pdb calling has been turned ON\n"
     ]
    }
   ],
   "source": [
    "%pdb"
   ]
  },
  {
   "cell_type": "code",
   "execution_count": 7,
   "metadata": {
    "collapsed": false
   },
   "outputs": [],
   "source": [
    "nmd_exons = nmd.NMDExons(full_db, all_nmd_targets.index)"
   ]
  },
  {
   "cell_type": "code",
   "execution_count": 8,
   "metadata": {
    "collapsed": false
   },
   "outputs": [
    {
     "name": "stdout",
     "output_type": "stream",
     "text": [
      "0\n",
      "100\n",
      "200\n",
      "300\n",
      "400\n",
      "500\n",
      "600\n",
      "700\n",
      "800\n",
      "900\n",
      "1000\n",
      "1100\n",
      "1200\n",
      "1300\n",
      "1400\n",
      "1500\n",
      "1600\n",
      "1700\n",
      "1800\n",
      "1900\n",
      "2000\n",
      "2100\n",
      "2200\n",
      "2300\n",
      "2400\n",
      "CPU times: user 10min 44s, sys: 5min 11s, total: 15min 55s\n",
      "Wall time: 16min 24s\n"
     ]
    }
   ],
   "source": [
    "%%time\n",
    "all_nmd_targets['nmd_classification'] = nmd_exons.find_nmd_exons()"
   ]
  },
  {
   "cell_type": "code",
   "execution_count": null,
   "metadata": {
    "collapsed": false
   },
   "outputs": [],
   "source": [
    "classification_file = os.path.join(data_folder, os.path.basename(filename))\n",
    "all_nmd_targets.to_csv(classification_file)"
   ]
  }
 ],
 "metadata": {
  "kernelspec": {
   "display_name": "Python 3",
   "language": "python",
   "name": "python3"
  },
  "language_info": {
   "codemirror_mode": {
    "name": "ipython",
    "version": 3
   },
   "file_extension": ".py",
   "mimetype": "text/x-python",
   "name": "python",
   "nbconvert_exporter": "python",
   "pygments_lexer": "ipython3",
   "version": "3.5.3"
  }
 },
 "nbformat": 4,
 "nbformat_minor": 0
}
