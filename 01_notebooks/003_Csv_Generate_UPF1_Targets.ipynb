{
 "cells": [
  {
   "cell_type": "code",
   "execution_count": 21,
   "metadata": {
    "collapsed": false
   },
   "outputs": [],
   "source": [
    "#for pandas data frame\n",
    "import common\n",
    "import glob\n",
    "import os\n",
    "import pandas as pd\n",
    "import seaborn as sns\n",
    "%matplotlib inline"
   ]
  },
  {
   "cell_type": "code",
   "execution_count": 22,
   "metadata": {
    "collapsed": false
   },
   "outputs": [
    {
     "name": "stdout",
     "output_type": "stream",
     "text": [
      "The autoreload extension is already loaded. To reload it, use:\n",
      "  %reload_ext autoreload\n"
     ]
    }
   ],
   "source": [
    "%load_ext autoreload\n",
    "%autoreload 2"
   ]
  },
  {
   "cell_type": "code",
   "execution_count": 23,
   "metadata": {
    "collapsed": false
   },
   "outputs": [],
   "source": [
    "notebook_prefix = '003_Generate_UPF1_Targets'\n",
    "data_folder = os.path.join(common.DATA_FOLDER, notebook_prefix)\n",
    "figure_folder = os.path.join(common.FIGURE_FOLDER, notebook_prefix)\n",
    "\n",
    "! mkdir $data_folder\n",
    "! mkdir $figure_folder"
   ]
  },
  {
   "cell_type": "code",
   "execution_count": 24,
   "metadata": {
    "collapsed": false
   },
   "outputs": [
    {
     "name": "stderr",
     "output_type": "stream",
     "text": [
      "/Users/rhythmicstar/anaconda3/lib/python3.5/site-packages/ipykernel/__main__.py:12: SettingWithCopyWarning: \n",
      "A value is trying to be set on a copy of a slice from a DataFrame.\n",
      "Try using .loc[row_indexer,col_indexer] = value instead\n",
      "\n",
      "See the caveats in the documentation: http://pandas.pydata.org/pandas-docs/stable/indexing.html#indexing-view-versus-copy\n"
     ]
    }
   ],
   "source": [
    "filenames = glob.glob(os.path.join(common.UPF1_FOLDER, '*/rMATS_3.2.5/MATS_output/SE*txt'))\n",
    "\n",
    "for filename in filenames:\n",
    "    *folders, celltype, rmats, mats_output, basename = filename.split('/')\n",
    "    \n",
    "    splicing_data = pd.read_table(filename)\n",
    "    \n",
    "    splicing_data_fdr05 = splicing_data.query('FDR < 0.05')\n",
    "\n",
    "    splicing_data_diff02 = splicing_data_fdr05.query('(IncLevelDifference < -0.2) | (IncLevelDifference > 0.2)')\n",
    "    \n",
    "    splicing_data_diff02['exon'] = \"exon:\" + splicing_data['chr'] + \":\" + (1 + splicing_data['exonStart_0base']).astype(str) \\\n",
    "    + \"-\" + splicing_data['exonEnd'].astype(str) + \":\" + splicing_data['strand']\n",
    "    \n",
    "    basename = os.path.basename(filename).replace('.txt', '_targets.csv')\n",
    "    csv = os.path.join(data_folder, 'UPF1_{celltype}_{basename}'.format(celltype=celltype, basename=basename))\n",
    "    splicing_data_diff02['exon'].to_csv(csv, index=False)"
   ]
  },
  {
   "cell_type": "code",
   "execution_count": null,
   "metadata": {
    "collapsed": true
   },
   "outputs": [],
   "source": []
  },
  {
   "cell_type": "code",
   "execution_count": null,
   "metadata": {
    "collapsed": true
   },
   "outputs": [],
   "source": []
  },
  {
   "cell_type": "code",
   "execution_count": null,
   "metadata": {
    "collapsed": true
   },
   "outputs": [],
   "source": []
  },
  {
   "cell_type": "code",
   "execution_count": null,
   "metadata": {
    "collapsed": true
   },
   "outputs": [],
   "source": []
  },
  {
   "cell_type": "code",
   "execution_count": 5,
   "metadata": {
    "collapsed": false
   },
   "outputs": [],
   "source": [
    "notebook_prefix = 'HepG2/rMATS_3.2.5/MATS_output/SE.MATS.JunctionCountOnly.txt'\n",
    "# notebook_prefix = 'HepG2/rMATS_3.2.5/MATS_output/SE.MATS.ReadsOnTargetAndJunctionCounts.txt'\n",
    "# notebook_prefix = 'K562/rMATS_3.2.5/MATS_output/SE.MATS.JunctionCountOnly.txt'\n",
    "# notebook_prefix = 'K562/rMATS_3.2.5/MATS_output/SE.MATS.ReadsOnTargetAndJunctionCounts.txt'\n",
    "\n",
    "input_folder = os.path.join(common.UPF1_FOLDER, notebook_prefix)"
   ]
  },
  {
   "cell_type": "code",
   "execution_count": 6,
   "metadata": {
    "collapsed": false,
    "scrolled": false
   },
   "outputs": [
    {
     "name": "stdout",
     "output_type": "stream",
     "text": [
      "(494, 23)\n"
     ]
    },
    {
     "data": {
      "text/html": [
       "<div>\n",
       "<table border=\"1\" class=\"dataframe\">\n",
       "  <thead>\n",
       "    <tr style=\"text-align: right;\">\n",
       "      <th></th>\n",
       "      <th>ID</th>\n",
       "      <th>GeneID</th>\n",
       "      <th>geneSymbol</th>\n",
       "      <th>chr</th>\n",
       "      <th>strand</th>\n",
       "      <th>exonStart_0base</th>\n",
       "      <th>exonEnd</th>\n",
       "      <th>upstreamES</th>\n",
       "      <th>upstreamEE</th>\n",
       "      <th>downstreamES</th>\n",
       "      <th>...</th>\n",
       "      <th>SJC_SAMPLE_1</th>\n",
       "      <th>IJC_SAMPLE_2</th>\n",
       "      <th>SJC_SAMPLE_2</th>\n",
       "      <th>IncFormLen</th>\n",
       "      <th>SkipFormLen</th>\n",
       "      <th>PValue</th>\n",
       "      <th>FDR</th>\n",
       "      <th>IncLevel1</th>\n",
       "      <th>IncLevel2</th>\n",
       "      <th>IncLevelDifference</th>\n",
       "    </tr>\n",
       "  </thead>\n",
       "  <tbody>\n",
       "    <tr>\n",
       "      <th>0</th>\n",
       "      <td>13593</td>\n",
       "      <td>ENSG00000247095.2</td>\n",
       "      <td>MIR210HG</td>\n",
       "      <td>chr11</td>\n",
       "      <td>-</td>\n",
       "      <td>567796</td>\n",
       "      <td>567853</td>\n",
       "      <td>565659</td>\n",
       "      <td>567555</td>\n",
       "      <td>568330</td>\n",
       "      <td>...</td>\n",
       "      <td>2,2</td>\n",
       "      <td>5,1</td>\n",
       "      <td>0,0</td>\n",
       "      <td>155</td>\n",
       "      <td>99</td>\n",
       "      <td>4.190160e-10</td>\n",
       "      <td>1.431590e-07</td>\n",
       "      <td>0.0,0.0</td>\n",
       "      <td>1.0,1.0</td>\n",
       "      <td>-1.000</td>\n",
       "    </tr>\n",
       "    <tr>\n",
       "      <th>1</th>\n",
       "      <td>22496</td>\n",
       "      <td>ENSG00000132199.18</td>\n",
       "      <td>ENOSF1</td>\n",
       "      <td>chr18</td>\n",
       "      <td>-</td>\n",
       "      <td>691203</td>\n",
       "      <td>691304</td>\n",
       "      <td>690548</td>\n",
       "      <td>690631</td>\n",
       "      <td>693881</td>\n",
       "      <td>...</td>\n",
       "      <td>1,3</td>\n",
       "      <td>3,2</td>\n",
       "      <td>0,0</td>\n",
       "      <td>198</td>\n",
       "      <td>99</td>\n",
       "      <td>5.795909e-10</td>\n",
       "      <td>1.431590e-07</td>\n",
       "      <td>0.0,0.0</td>\n",
       "      <td>1.0,1.0</td>\n",
       "      <td>-1.000</td>\n",
       "    </tr>\n",
       "    <tr>\n",
       "      <th>2</th>\n",
       "      <td>14298</td>\n",
       "      <td>ENSG00000185101.12</td>\n",
       "      <td>ANO9</td>\n",
       "      <td>chr11</td>\n",
       "      <td>-</td>\n",
       "      <td>423941</td>\n",
       "      <td>424187</td>\n",
       "      <td>421140</td>\n",
       "      <td>421198</td>\n",
       "      <td>428357</td>\n",
       "      <td>...</td>\n",
       "      <td>0,0</td>\n",
       "      <td>3,3</td>\n",
       "      <td>5,6</td>\n",
       "      <td>198</td>\n",
       "      <td>99</td>\n",
       "      <td>1.213071e-08</td>\n",
       "      <td>1.997523e-06</td>\n",
       "      <td>1.0,1.0</td>\n",
       "      <td>0.231,0.2</td>\n",
       "      <td>0.784</td>\n",
       "    </tr>\n",
       "    <tr>\n",
       "      <th>3</th>\n",
       "      <td>14300</td>\n",
       "      <td>ENSG00000185101.12</td>\n",
       "      <td>ANO9</td>\n",
       "      <td>chr11</td>\n",
       "      <td>-</td>\n",
       "      <td>428087</td>\n",
       "      <td>428247</td>\n",
       "      <td>421140</td>\n",
       "      <td>421198</td>\n",
       "      <td>428357</td>\n",
       "      <td>...</td>\n",
       "      <td>0,0</td>\n",
       "      <td>26,23</td>\n",
       "      <td>5,6</td>\n",
       "      <td>198</td>\n",
       "      <td>99</td>\n",
       "      <td>4.068916e-06</td>\n",
       "      <td>5.025111e-04</td>\n",
       "      <td>1.0,1.0</td>\n",
       "      <td>0.722,0.657</td>\n",
       "      <td>0.310</td>\n",
       "    </tr>\n",
       "    <tr>\n",
       "      <th>4</th>\n",
       "      <td>23334</td>\n",
       "      <td>ENSG00000035115.21</td>\n",
       "      <td>SH3YL1</td>\n",
       "      <td>chr2</td>\n",
       "      <td>-</td>\n",
       "      <td>262630</td>\n",
       "      <td>262750</td>\n",
       "      <td>253004</td>\n",
       "      <td>253115</td>\n",
       "      <td>263210</td>\n",
       "      <td>...</td>\n",
       "      <td>0,0</td>\n",
       "      <td>2,1</td>\n",
       "      <td>3,1</td>\n",
       "      <td>198</td>\n",
       "      <td>99</td>\n",
       "      <td>6.092140e-06</td>\n",
       "      <td>6.019034e-04</td>\n",
       "      <td>1.0,1.0</td>\n",
       "      <td>0.25,0.333</td>\n",
       "      <td>0.709</td>\n",
       "    </tr>\n",
       "  </tbody>\n",
       "</table>\n",
       "<p>5 rows × 23 columns</p>\n",
       "</div>"
      ],
      "text/plain": [
       "      ID              GeneID geneSymbol    chr strand  exonStart_0base  \\\n",
       "0  13593   ENSG00000247095.2   MIR210HG  chr11      -           567796   \n",
       "1  22496  ENSG00000132199.18     ENOSF1  chr18      -           691203   \n",
       "2  14298  ENSG00000185101.12       ANO9  chr11      -           423941   \n",
       "3  14300  ENSG00000185101.12       ANO9  chr11      -           428087   \n",
       "4  23334  ENSG00000035115.21     SH3YL1   chr2      -           262630   \n",
       "\n",
       "   exonEnd  upstreamES  upstreamEE  downstreamES         ...          \\\n",
       "0   567853      565659      567555        568330         ...           \n",
       "1   691304      690548      690631        693881         ...           \n",
       "2   424187      421140      421198        428357         ...           \n",
       "3   428247      421140      421198        428357         ...           \n",
       "4   262750      253004      253115        263210         ...           \n",
       "\n",
       "   SJC_SAMPLE_1  IJC_SAMPLE_2 SJC_SAMPLE_2 IncFormLen SkipFormLen  \\\n",
       "0           2,2           5,1          0,0        155          99   \n",
       "1           1,3           3,2          0,0        198          99   \n",
       "2           0,0           3,3          5,6        198          99   \n",
       "3           0,0         26,23          5,6        198          99   \n",
       "4           0,0           2,1          3,1        198          99   \n",
       "\n",
       "         PValue           FDR  IncLevel1    IncLevel2  IncLevelDifference  \n",
       "0  4.190160e-10  1.431590e-07    0.0,0.0      1.0,1.0              -1.000  \n",
       "1  5.795909e-10  1.431590e-07    0.0,0.0      1.0,1.0              -1.000  \n",
       "2  1.213071e-08  1.997523e-06    1.0,1.0    0.231,0.2               0.784  \n",
       "3  4.068916e-06  5.025111e-04    1.0,1.0  0.722,0.657               0.310  \n",
       "4  6.092140e-06  6.019034e-04    1.0,1.0   0.25,0.333               0.709  \n",
       "\n",
       "[5 rows x 23 columns]"
      ]
     },
     "execution_count": 6,
     "metadata": {},
     "output_type": "execute_result"
    }
   ],
   "source": [
    "splicing_data = pd.read_table(input_folder)\n",
    "print(splicing_data.shape)\n",
    "splicing_data.head()"
   ]
  },
  {
   "cell_type": "code",
   "execution_count": 7,
   "metadata": {
    "collapsed": false
   },
   "outputs": [
    {
     "data": {
      "text/plain": [
       "<matplotlib.axes._subplots.AxesSubplot at 0x11ae2c438>"
      ]
     },
     "execution_count": 7,
     "metadata": {},
     "output_type": "execute_result"
    },
    {
     "data": {
      "image/png": "[encoded data removed]",
      "text/plain": [
       "<matplotlib.figure.Figure at 0x117b0cbe0>"
      ]
     },
     "metadata": {},
     "output_type": "display_data"
    }
   ],
   "source": [
    "sns.distplot(splicing_data[\"IncLevelDifference\"])"
   ]
  },
  {
   "cell_type": "code",
   "execution_count": 8,
   "metadata": {
    "collapsed": false
   },
   "outputs": [
    {
     "data": {
      "text/plain": [
       "'/Users/rhythmicstar/anaconda3/lib/python3.5/site-packages/pandas/__init__.py'"
      ]
     },
     "execution_count": 8,
     "metadata": {},
     "output_type": "execute_result"
    }
   ],
   "source": [
    "pd.__file__"
   ]
  },
  {
   "cell_type": "code",
   "execution_count": 9,
   "metadata": {
    "collapsed": true
   },
   "outputs": [],
   "source": [
    "splicing_data['exon'] = \"exon:\" + splicing_data['chr'] + \":\" + (1 + splicing_data['exonStart_0base']).astype(str) \\\n",
    "+ \"-\" + splicing_data['exonEnd'].astype(str) + \":\" + splicing_data['strand']"
   ]
  },
  {
   "cell_type": "code",
   "execution_count": 10,
   "metadata": {
    "collapsed": false
   },
   "outputs": [
    {
     "name": "stdout",
     "output_type": "stream",
     "text": [
      "(20, 24)\n"
     ]
    },
    {
     "data": {
      "text/html": [
       "<div>\n",
       "<table border=\"1\" class=\"dataframe\">\n",
       "  <thead>\n",
       "    <tr style=\"text-align: right;\">\n",
       "      <th></th>\n",
       "      <th>ID</th>\n",
       "      <th>GeneID</th>\n",
       "      <th>geneSymbol</th>\n",
       "      <th>chr</th>\n",
       "      <th>strand</th>\n",
       "      <th>exonStart_0base</th>\n",
       "      <th>exonEnd</th>\n",
       "      <th>upstreamES</th>\n",
       "      <th>upstreamEE</th>\n",
       "      <th>downstreamES</th>\n",
       "      <th>...</th>\n",
       "      <th>IJC_SAMPLE_2</th>\n",
       "      <th>SJC_SAMPLE_2</th>\n",
       "      <th>IncFormLen</th>\n",
       "      <th>SkipFormLen</th>\n",
       "      <th>PValue</th>\n",
       "      <th>FDR</th>\n",
       "      <th>IncLevel1</th>\n",
       "      <th>IncLevel2</th>\n",
       "      <th>IncLevelDifference</th>\n",
       "      <th>exon</th>\n",
       "    </tr>\n",
       "  </thead>\n",
       "  <tbody>\n",
       "    <tr>\n",
       "      <th>0</th>\n",
       "      <td>13593</td>\n",
       "      <td>ENSG00000247095.2</td>\n",
       "      <td>MIR210HG</td>\n",
       "      <td>chr11</td>\n",
       "      <td>-</td>\n",
       "      <td>567796</td>\n",
       "      <td>567853</td>\n",
       "      <td>565659</td>\n",
       "      <td>567555</td>\n",
       "      <td>568330</td>\n",
       "      <td>...</td>\n",
       "      <td>5,1</td>\n",
       "      <td>0,0</td>\n",
       "      <td>155</td>\n",
       "      <td>99</td>\n",
       "      <td>4.190160e-10</td>\n",
       "      <td>1.431590e-07</td>\n",
       "      <td>0.0,0.0</td>\n",
       "      <td>1.0,1.0</td>\n",
       "      <td>-1.000</td>\n",
       "      <td>exon:chr11:567797-567853:-</td>\n",
       "    </tr>\n",
       "    <tr>\n",
       "      <th>1</th>\n",
       "      <td>22496</td>\n",
       "      <td>ENSG00000132199.18</td>\n",
       "      <td>ENOSF1</td>\n",
       "      <td>chr18</td>\n",
       "      <td>-</td>\n",
       "      <td>691203</td>\n",
       "      <td>691304</td>\n",
       "      <td>690548</td>\n",
       "      <td>690631</td>\n",
       "      <td>693881</td>\n",
       "      <td>...</td>\n",
       "      <td>3,2</td>\n",
       "      <td>0,0</td>\n",
       "      <td>198</td>\n",
       "      <td>99</td>\n",
       "      <td>5.795909e-10</td>\n",
       "      <td>1.431590e-07</td>\n",
       "      <td>0.0,0.0</td>\n",
       "      <td>1.0,1.0</td>\n",
       "      <td>-1.000</td>\n",
       "      <td>exon:chr18:691204-691304:-</td>\n",
       "    </tr>\n",
       "    <tr>\n",
       "      <th>2</th>\n",
       "      <td>14298</td>\n",
       "      <td>ENSG00000185101.12</td>\n",
       "      <td>ANO9</td>\n",
       "      <td>chr11</td>\n",
       "      <td>-</td>\n",
       "      <td>423941</td>\n",
       "      <td>424187</td>\n",
       "      <td>421140</td>\n",
       "      <td>421198</td>\n",
       "      <td>428357</td>\n",
       "      <td>...</td>\n",
       "      <td>3,3</td>\n",
       "      <td>5,6</td>\n",
       "      <td>198</td>\n",
       "      <td>99</td>\n",
       "      <td>1.213071e-08</td>\n",
       "      <td>1.997523e-06</td>\n",
       "      <td>1.0,1.0</td>\n",
       "      <td>0.231,0.2</td>\n",
       "      <td>0.784</td>\n",
       "      <td>exon:chr11:423942-424187:-</td>\n",
       "    </tr>\n",
       "    <tr>\n",
       "      <th>3</th>\n",
       "      <td>14300</td>\n",
       "      <td>ENSG00000185101.12</td>\n",
       "      <td>ANO9</td>\n",
       "      <td>chr11</td>\n",
       "      <td>-</td>\n",
       "      <td>428087</td>\n",
       "      <td>428247</td>\n",
       "      <td>421140</td>\n",
       "      <td>421198</td>\n",
       "      <td>428357</td>\n",
       "      <td>...</td>\n",
       "      <td>26,23</td>\n",
       "      <td>5,6</td>\n",
       "      <td>198</td>\n",
       "      <td>99</td>\n",
       "      <td>4.068916e-06</td>\n",
       "      <td>5.025111e-04</td>\n",
       "      <td>1.0,1.0</td>\n",
       "      <td>0.722,0.657</td>\n",
       "      <td>0.310</td>\n",
       "      <td>exon:chr11:428088-428247:-</td>\n",
       "    </tr>\n",
       "    <tr>\n",
       "      <th>4</th>\n",
       "      <td>23334</td>\n",
       "      <td>ENSG00000035115.21</td>\n",
       "      <td>SH3YL1</td>\n",
       "      <td>chr2</td>\n",
       "      <td>-</td>\n",
       "      <td>262630</td>\n",
       "      <td>262750</td>\n",
       "      <td>253004</td>\n",
       "      <td>253115</td>\n",
       "      <td>263210</td>\n",
       "      <td>...</td>\n",
       "      <td>2,1</td>\n",
       "      <td>3,1</td>\n",
       "      <td>198</td>\n",
       "      <td>99</td>\n",
       "      <td>6.092140e-06</td>\n",
       "      <td>6.019034e-04</td>\n",
       "      <td>1.0,1.0</td>\n",
       "      <td>0.25,0.333</td>\n",
       "      <td>0.709</td>\n",
       "      <td>exon:chr2:262631-262750:-</td>\n",
       "    </tr>\n",
       "  </tbody>\n",
       "</table>\n",
       "<p>5 rows × 24 columns</p>\n",
       "</div>"
      ],
      "text/plain": [
       "      ID              GeneID geneSymbol    chr strand  exonStart_0base  \\\n",
       "0  13593   ENSG00000247095.2   MIR210HG  chr11      -           567796   \n",
       "1  22496  ENSG00000132199.18     ENOSF1  chr18      -           691203   \n",
       "2  14298  ENSG00000185101.12       ANO9  chr11      -           423941   \n",
       "3  14300  ENSG00000185101.12       ANO9  chr11      -           428087   \n",
       "4  23334  ENSG00000035115.21     SH3YL1   chr2      -           262630   \n",
       "\n",
       "   exonEnd  upstreamES  upstreamEE  downstreamES             ...              \\\n",
       "0   567853      565659      567555        568330             ...               \n",
       "1   691304      690548      690631        693881             ...               \n",
       "2   424187      421140      421198        428357             ...               \n",
       "3   428247      421140      421198        428357             ...               \n",
       "4   262750      253004      253115        263210             ...               \n",
       "\n",
       "   IJC_SAMPLE_2  SJC_SAMPLE_2 IncFormLen SkipFormLen        PValue  \\\n",
       "0           5,1           0,0        155          99  4.190160e-10   \n",
       "1           3,2           0,0        198          99  5.795909e-10   \n",
       "2           3,3           5,6        198          99  1.213071e-08   \n",
       "3         26,23           5,6        198          99  4.068916e-06   \n",
       "4           2,1           3,1        198          99  6.092140e-06   \n",
       "\n",
       "            FDR  IncLevel1    IncLevel2  IncLevelDifference  \\\n",
       "0  1.431590e-07    0.0,0.0      1.0,1.0              -1.000   \n",
       "1  1.431590e-07    0.0,0.0      1.0,1.0              -1.000   \n",
       "2  1.997523e-06    1.0,1.0    0.231,0.2               0.784   \n",
       "3  5.025111e-04    1.0,1.0  0.722,0.657               0.310   \n",
       "4  6.019034e-04    1.0,1.0   0.25,0.333               0.709   \n",
       "\n",
       "                         exon  \n",
       "0  exon:chr11:567797-567853:-  \n",
       "1  exon:chr18:691204-691304:-  \n",
       "2  exon:chr11:423942-424187:-  \n",
       "3  exon:chr11:428088-428247:-  \n",
       "4   exon:chr2:262631-262750:-  \n",
       "\n",
       "[5 rows x 24 columns]"
      ]
     },
     "execution_count": 10,
     "metadata": {},
     "output_type": "execute_result"
    }
   ],
   "source": [
    "splicing_data_fdr05 = splicing_data.query('FDR < 0.05')\n",
    "print(splicing_data_fdr05.shape)\n",
    "splicing_data_fdr05.head()"
   ]
  },
  {
   "cell_type": "code",
   "execution_count": 11,
   "metadata": {
    "collapsed": false
   },
   "outputs": [
    {
     "data": {
      "text/plain": [
       "<matplotlib.axes._subplots.AxesSubplot at 0x11cf34ba8>"
      ]
     },
     "execution_count": 11,
     "metadata": {},
     "output_type": "execute_result"
    },
    {
     "data": {
      "image/png": "[encoded data removed]",
      "text/plain": [
       "<matplotlib.figure.Figure at 0x1109aeda0>"
      ]
     },
     "metadata": {},
     "output_type": "display_data"
    }
   ],
   "source": [
    "sns.distplot(splicing_data_fdr05[\"IncLevelDifference\"])"
   ]
  },
  {
   "cell_type": "code",
   "execution_count": 12,
   "metadata": {
    "collapsed": false
   },
   "outputs": [
    {
     "name": "stdout",
     "output_type": "stream",
     "text": [
      "(15, 24)\n"
     ]
    },
    {
     "data": {
      "text/html": [
       "<div>\n",
       "<table border=\"1\" class=\"dataframe\">\n",
       "  <thead>\n",
       "    <tr style=\"text-align: right;\">\n",
       "      <th></th>\n",
       "      <th>ID</th>\n",
       "      <th>GeneID</th>\n",
       "      <th>geneSymbol</th>\n",
       "      <th>chr</th>\n",
       "      <th>strand</th>\n",
       "      <th>exonStart_0base</th>\n",
       "      <th>exonEnd</th>\n",
       "      <th>upstreamES</th>\n",
       "      <th>upstreamEE</th>\n",
       "      <th>downstreamES</th>\n",
       "      <th>...</th>\n",
       "      <th>IJC_SAMPLE_2</th>\n",
       "      <th>SJC_SAMPLE_2</th>\n",
       "      <th>IncFormLen</th>\n",
       "      <th>SkipFormLen</th>\n",
       "      <th>PValue</th>\n",
       "      <th>FDR</th>\n",
       "      <th>IncLevel1</th>\n",
       "      <th>IncLevel2</th>\n",
       "      <th>IncLevelDifference</th>\n",
       "      <th>exon</th>\n",
       "    </tr>\n",
       "  </thead>\n",
       "  <tbody>\n",
       "    <tr>\n",
       "      <th>0</th>\n",
       "      <td>13593</td>\n",
       "      <td>ENSG00000247095.2</td>\n",
       "      <td>MIR210HG</td>\n",
       "      <td>chr11</td>\n",
       "      <td>-</td>\n",
       "      <td>567796</td>\n",
       "      <td>567853</td>\n",
       "      <td>565659</td>\n",
       "      <td>567555</td>\n",
       "      <td>568330</td>\n",
       "      <td>...</td>\n",
       "      <td>5,1</td>\n",
       "      <td>0,0</td>\n",
       "      <td>155</td>\n",
       "      <td>99</td>\n",
       "      <td>4.190160e-10</td>\n",
       "      <td>1.431590e-07</td>\n",
       "      <td>0.0,0.0</td>\n",
       "      <td>1.0,1.0</td>\n",
       "      <td>-1.000</td>\n",
       "      <td>exon:chr11:567797-567853:-</td>\n",
       "    </tr>\n",
       "    <tr>\n",
       "      <th>1</th>\n",
       "      <td>22496</td>\n",
       "      <td>ENSG00000132199.18</td>\n",
       "      <td>ENOSF1</td>\n",
       "      <td>chr18</td>\n",
       "      <td>-</td>\n",
       "      <td>691203</td>\n",
       "      <td>691304</td>\n",
       "      <td>690548</td>\n",
       "      <td>690631</td>\n",
       "      <td>693881</td>\n",
       "      <td>...</td>\n",
       "      <td>3,2</td>\n",
       "      <td>0,0</td>\n",
       "      <td>198</td>\n",
       "      <td>99</td>\n",
       "      <td>5.795909e-10</td>\n",
       "      <td>1.431590e-07</td>\n",
       "      <td>0.0,0.0</td>\n",
       "      <td>1.0,1.0</td>\n",
       "      <td>-1.000</td>\n",
       "      <td>exon:chr18:691204-691304:-</td>\n",
       "    </tr>\n",
       "    <tr>\n",
       "      <th>2</th>\n",
       "      <td>14298</td>\n",
       "      <td>ENSG00000185101.12</td>\n",
       "      <td>ANO9</td>\n",
       "      <td>chr11</td>\n",
       "      <td>-</td>\n",
       "      <td>423941</td>\n",
       "      <td>424187</td>\n",
       "      <td>421140</td>\n",
       "      <td>421198</td>\n",
       "      <td>428357</td>\n",
       "      <td>...</td>\n",
       "      <td>3,3</td>\n",
       "      <td>5,6</td>\n",
       "      <td>198</td>\n",
       "      <td>99</td>\n",
       "      <td>1.213071e-08</td>\n",
       "      <td>1.997523e-06</td>\n",
       "      <td>1.0,1.0</td>\n",
       "      <td>0.231,0.2</td>\n",
       "      <td>0.784</td>\n",
       "      <td>exon:chr11:423942-424187:-</td>\n",
       "    </tr>\n",
       "    <tr>\n",
       "      <th>3</th>\n",
       "      <td>14300</td>\n",
       "      <td>ENSG00000185101.12</td>\n",
       "      <td>ANO9</td>\n",
       "      <td>chr11</td>\n",
       "      <td>-</td>\n",
       "      <td>428087</td>\n",
       "      <td>428247</td>\n",
       "      <td>421140</td>\n",
       "      <td>421198</td>\n",
       "      <td>428357</td>\n",
       "      <td>...</td>\n",
       "      <td>26,23</td>\n",
       "      <td>5,6</td>\n",
       "      <td>198</td>\n",
       "      <td>99</td>\n",
       "      <td>4.068916e-06</td>\n",
       "      <td>5.025111e-04</td>\n",
       "      <td>1.0,1.0</td>\n",
       "      <td>0.722,0.657</td>\n",
       "      <td>0.310</td>\n",
       "      <td>exon:chr11:428088-428247:-</td>\n",
       "    </tr>\n",
       "    <tr>\n",
       "      <th>4</th>\n",
       "      <td>23334</td>\n",
       "      <td>ENSG00000035115.21</td>\n",
       "      <td>SH3YL1</td>\n",
       "      <td>chr2</td>\n",
       "      <td>-</td>\n",
       "      <td>262630</td>\n",
       "      <td>262750</td>\n",
       "      <td>253004</td>\n",
       "      <td>253115</td>\n",
       "      <td>263210</td>\n",
       "      <td>...</td>\n",
       "      <td>2,1</td>\n",
       "      <td>3,1</td>\n",
       "      <td>198</td>\n",
       "      <td>99</td>\n",
       "      <td>6.092140e-06</td>\n",
       "      <td>6.019034e-04</td>\n",
       "      <td>1.0,1.0</td>\n",
       "      <td>0.25,0.333</td>\n",
       "      <td>0.709</td>\n",
       "      <td>exon:chr2:262631-262750:-</td>\n",
       "    </tr>\n",
       "  </tbody>\n",
       "</table>\n",
       "<p>5 rows × 24 columns</p>\n",
       "</div>"
      ],
      "text/plain": [
       "      ID              GeneID geneSymbol    chr strand  exonStart_0base  \\\n",
       "0  13593   ENSG00000247095.2   MIR210HG  chr11      -           567796   \n",
       "1  22496  ENSG00000132199.18     ENOSF1  chr18      -           691203   \n",
       "2  14298  ENSG00000185101.12       ANO9  chr11      -           423941   \n",
       "3  14300  ENSG00000185101.12       ANO9  chr11      -           428087   \n",
       "4  23334  ENSG00000035115.21     SH3YL1   chr2      -           262630   \n",
       "\n",
       "   exonEnd  upstreamES  upstreamEE  downstreamES             ...              \\\n",
       "0   567853      565659      567555        568330             ...               \n",
       "1   691304      690548      690631        693881             ...               \n",
       "2   424187      421140      421198        428357             ...               \n",
       "3   428247      421140      421198        428357             ...               \n",
       "4   262750      253004      253115        263210             ...               \n",
       "\n",
       "   IJC_SAMPLE_2  SJC_SAMPLE_2 IncFormLen SkipFormLen        PValue  \\\n",
       "0           5,1           0,0        155          99  4.190160e-10   \n",
       "1           3,2           0,0        198          99  5.795909e-10   \n",
       "2           3,3           5,6        198          99  1.213071e-08   \n",
       "3         26,23           5,6        198          99  4.068916e-06   \n",
       "4           2,1           3,1        198          99  6.092140e-06   \n",
       "\n",
       "            FDR  IncLevel1    IncLevel2  IncLevelDifference  \\\n",
       "0  1.431590e-07    0.0,0.0      1.0,1.0              -1.000   \n",
       "1  1.431590e-07    0.0,0.0      1.0,1.0              -1.000   \n",
       "2  1.997523e-06    1.0,1.0    0.231,0.2               0.784   \n",
       "3  5.025111e-04    1.0,1.0  0.722,0.657               0.310   \n",
       "4  6.019034e-04    1.0,1.0   0.25,0.333               0.709   \n",
       "\n",
       "                         exon  \n",
       "0  exon:chr11:567797-567853:-  \n",
       "1  exon:chr18:691204-691304:-  \n",
       "2  exon:chr11:423942-424187:-  \n",
       "3  exon:chr11:428088-428247:-  \n",
       "4   exon:chr2:262631-262750:-  \n",
       "\n",
       "[5 rows x 24 columns]"
      ]
     },
     "execution_count": 12,
     "metadata": {},
     "output_type": "execute_result"
    }
   ],
   "source": [
    "splicing_data_diff02 = splicing_data_fdr05.query('(IncLevelDifference < -0.2) | (IncLevelDifference > 0.2)')\n",
    "print(splicing_data_diff02.shape)\n",
    "splicing_data_diff02.head()"
   ]
  },
  {
   "cell_type": "code",
   "execution_count": 13,
   "metadata": {
    "collapsed": false
   },
   "outputs": [
    {
     "data": {
      "text/plain": [
       "<matplotlib.axes._subplots.AxesSubplot at 0x111319e48>"
      ]
     },
     "execution_count": 13,
     "metadata": {},
     "output_type": "execute_result"
    },
    {
     "data": {
      "image/png": "[encoded data removed]",
      "text/plain": [
       "<matplotlib.figure.Figure at 0x11131ec18>"
      ]
     },
     "metadata": {},
     "output_type": "display_data"
    }
   ],
   "source": [
    "sns.distplot(splicing_data_diff02[\"IncLevelDifference\"])"
   ]
  },
  {
   "cell_type": "code",
   "execution_count": 14,
   "metadata": {
    "collapsed": false
   },
   "outputs": [],
   "source": [
    "basename = os.path.basename(notebook_prefix)\n",
    "new_basename = basename.replace(\".txt\", \"_target.csv\")\n",
    "output_file = os.path.join(common.DATA_FOLDER, new_basename)\n",
    "splicing_data_diff02['exon'].to_csv(output_file, index=False)"
   ]
  },
  {
   "cell_type": "code",
   "execution_count": null,
   "metadata": {
    "collapsed": true
   },
   "outputs": [],
   "source": []
  }
 ],
 "metadata": {
  "kernelspec": {
   "display_name": "Python 3",
   "language": "python",
   "name": "python3"
  },
  "language_info": {
   "codemirror_mode": {
    "name": "ipython",
    "version": 3
   },
   "file_extension": ".py",
   "mimetype": "text/x-python",
   "name": "python",
   "nbconvert_exporter": "python",
   "pygments_lexer": "ipython3",
   "version": "3.5.3"
  }
 },
 "nbformat": 4,
 "nbformat_minor": 0
}
