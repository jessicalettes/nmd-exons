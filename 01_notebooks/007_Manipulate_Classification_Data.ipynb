{
 "cells": [
  {
   "cell_type": "code",
   "execution_count": 1,
   "metadata": {
    "collapsed": false
   },
   "outputs": [],
   "source": [
    "import nmd\n",
    "import csv\n",
    "import numpy as np\n",
    "import pandas as pd\n",
    "import common\n",
    "import os\n",
    "import glob\n",
    "import matplotlib.pyplot as plt\n",
    "import seaborn as sns\n",
    "%matplotlib inline"
   ]
  },
  {
   "cell_type": "code",
   "execution_count": 2,
   "metadata": {
    "collapsed": false
   },
   "outputs": [],
   "source": [
    "%load_ext autoreload\n",
    "%autoreload 2"
   ]
  },
  {
   "cell_type": "code",
   "execution_count": 3,
   "metadata": {
    "collapsed": false
   },
   "outputs": [],
   "source": [
    "notebook_prefix = '007_Manipulate_Classification_Data'\n",
    "data_folder = os.path.join(common.DATA_FOLDER, notebook_prefix)\n",
    "figure_folder = os.path.join(common.FIGURE_FOLDER, notebook_prefix)\n",
    "\n",
    "! mkdir $data_folder\n",
    "! mkdir $figure_folder"
   ]
  },
  {
   "cell_type": "code",
   "execution_count": 4,
   "metadata": {
    "collapsed": false
   },
   "outputs": [],
   "source": [
    "filename = os.path.join(common.DATA_FOLDER, '005_Generate_Classifications_From_Targets', 'all_nmd_classifications.csv')\n",
    "all_nmd_targets = pd.read_csv(filename)"
   ]
  },
  {
   "cell_type": "code",
   "execution_count": 5,
   "metadata": {
    "collapsed": false
   },
   "outputs": [
    {
     "data": {
      "text/html": [
       "<div>\n",
       "<table border=\"1\" class=\"dataframe\">\n",
       "  <thead>\n",
       "    <tr style=\"text-align: right;\">\n",
       "      <th></th>\n",
       "      <th>exon_id</th>\n",
       "      <th>filename_of_origin</th>\n",
       "      <th>nmd_classification</th>\n",
       "    </tr>\n",
       "  </thead>\n",
       "  <tbody>\n",
       "    <tr>\n",
       "      <th>0</th>\n",
       "      <td>exon:chr10:101510126-101510153:+</td>\n",
       "      <td>ipsc_npc_mn_regression_targets.csv</td>\n",
       "      <td>Exclusion causes NMD (annotated)</td>\n",
       "    </tr>\n",
       "    <tr>\n",
       "      <th>1</th>\n",
       "      <td>exon:chr10:101935702-101935827:-</td>\n",
       "      <td>UPF1_K562_SE.MATS.JunctionCountOnly_targets.csv</td>\n",
       "      <td>Splicing not known to cause NMD</td>\n",
       "    </tr>\n",
       "    <tr>\n",
       "      <th>2</th>\n",
       "      <td>exon:chr10:103221738-103221815:+</td>\n",
       "      <td>correlated_actual_filtered_targets.csv</td>\n",
       "      <td>Splicing not known to cause NMD</td>\n",
       "    </tr>\n",
       "    <tr>\n",
       "      <th>3</th>\n",
       "      <td>exon:chr10:103343345-103343438:-</td>\n",
       "      <td>UPF1_K562_SE.MATS.ReadsOnTargetAndJunctionCoun...</td>\n",
       "      <td>Exon not found</td>\n",
       "    </tr>\n",
       "    <tr>\n",
       "      <th>4</th>\n",
       "      <td>exon:chr10:103343345-103343438:-</td>\n",
       "      <td>UPF1_K562_SE.MATS.JunctionCountOnly_targets.csv</td>\n",
       "      <td>Exon not found</td>\n",
       "    </tr>\n",
       "  </tbody>\n",
       "</table>\n",
       "</div>"
      ],
      "text/plain": [
       "                            exon_id  \\\n",
       "0  exon:chr10:101510126-101510153:+   \n",
       "1  exon:chr10:101935702-101935827:-   \n",
       "2  exon:chr10:103221738-103221815:+   \n",
       "3  exon:chr10:103343345-103343438:-   \n",
       "4  exon:chr10:103343345-103343438:-   \n",
       "\n",
       "                                  filename_of_origin  \\\n",
       "0                 ipsc_npc_mn_regression_targets.csv   \n",
       "1    UPF1_K562_SE.MATS.JunctionCountOnly_targets.csv   \n",
       "2             correlated_actual_filtered_targets.csv   \n",
       "3  UPF1_K562_SE.MATS.ReadsOnTargetAndJunctionCoun...   \n",
       "4    UPF1_K562_SE.MATS.JunctionCountOnly_targets.csv   \n",
       "\n",
       "                 nmd_classification  \n",
       "0  Exclusion causes NMD (annotated)  \n",
       "1   Splicing not known to cause NMD  \n",
       "2   Splicing not known to cause NMD  \n",
       "3                    Exon not found  \n",
       "4                    Exon not found  "
      ]
     },
     "execution_count": 5,
     "metadata": {},
     "output_type": "execute_result"
    }
   ],
   "source": [
    "all_nmd_targets.head()"
   ]
  },
  {
   "cell_type": "code",
   "execution_count": 6,
   "metadata": {
    "collapsed": false,
    "scrolled": true
   },
   "outputs": [
    {
     "data": {
      "text/plain": [
       "nmd_classification\n",
       "Exclusion causes NMD (annotated)             51\n",
       "Exclusion causes NMD (found stop codon)      19\n",
       "Exon not found                              667\n",
       "Inclusion causes NMD (annotated)             58\n",
       "Inclusion causes NMD (found stop codon)      23\n",
       "Splicing not known to cause NMD            1585\n",
       "dtype: int64"
      ]
     },
     "execution_count": 6,
     "metadata": {},
     "output_type": "execute_result"
    }
   ],
   "source": [
    "all_nmd_targets.groupby(['nmd_classification']).size()"
   ]
  },
  {
   "cell_type": "code",
   "execution_count": 7,
   "metadata": {
    "collapsed": false
   },
   "outputs": [
    {
     "data": {
      "text/plain": [
       "nmd_classification                       filename_of_origin                                           \n",
       "Exclusion causes NMD (annotated)         UPF1_K562_SE.MATS.JunctionCountOnly_targets.csv                   11\n",
       "                                         UPF1_K562_SE.MATS.ReadsOnTargetAndJunctionCounts_targets.csv      11\n",
       "                                         correlated_actual_filtered_targets.csv                            11\n",
       "                                         ipsc_npc_mn_regression_targets.csv                                12\n",
       "                                         ipsc_only_regression_targets.csv                                   6\n",
       "Exclusion causes NMD (found stop codon)  UPF1_K562_SE.MATS.JunctionCountOnly_targets.csv                    3\n",
       "                                         UPF1_K562_SE.MATS.ReadsOnTargetAndJunctionCounts_targets.csv       3\n",
       "                                         correlated_actual_filtered_targets.csv                             6\n",
       "                                         ipsc_npc_mn_regression_targets.csv                                 4\n",
       "                                         ipsc_only_regression_targets.csv                                   3\n",
       "Exon not found                           UPF1_HepG2_SE.MATS.JunctionCountOnly_targets.csv                   7\n",
       "                                         UPF1_HepG2_SE.MATS.ReadsOnTargetAndJunctionCounts_targets.csv      8\n",
       "                                         UPF1_K562_SE.MATS.JunctionCountOnly_targets.csv                  334\n",
       "                                         UPF1_K562_SE.MATS.ReadsOnTargetAndJunctionCounts_targets.csv     318\n",
       "Inclusion causes NMD (annotated)         UPF1_K562_SE.MATS.JunctionCountOnly_targets.csv                    9\n",
       "                                         UPF1_K562_SE.MATS.ReadsOnTargetAndJunctionCounts_targets.csv      15\n",
       "                                         correlated_actual_filtered_targets.csv                            18\n",
       "                                         ipsc_npc_mn_regression_targets.csv                                10\n",
       "                                         ipsc_only_regression_targets.csv                                   6\n",
       "Inclusion causes NMD (found stop codon)  UPF1_K562_SE.MATS.JunctionCountOnly_targets.csv                    5\n",
       "                                         UPF1_K562_SE.MATS.ReadsOnTargetAndJunctionCounts_targets.csv       5\n",
       "                                         correlated_actual_filtered_targets.csv                             2\n",
       "                                         ipsc_npc_mn_regression_targets.csv                                 6\n",
       "                                         ipsc_only_regression_targets.csv                                   5\n",
       "Splicing not known to cause NMD          UPF1_HepG2_SE.MATS.JunctionCountOnly_targets.csv                   8\n",
       "                                         UPF1_HepG2_SE.MATS.ReadsOnTargetAndJunctionCounts_targets.csv      9\n",
       "                                         UPF1_K562_SE.MATS.JunctionCountOnly_targets.csv                  380\n",
       "                                         UPF1_K562_SE.MATS.ReadsOnTargetAndJunctionCounts_targets.csv     380\n",
       "                                         correlated_actual_filtered_targets.csv                           475\n",
       "                                         ipsc_npc_mn_regression_targets.csv                               186\n",
       "                                         ipsc_only_regression_targets.csv                                 147\n",
       "dtype: int64"
      ]
     },
     "execution_count": 7,
     "metadata": {},
     "output_type": "execute_result"
    }
   ],
   "source": [
    "all_nmd_targets.groupby(['nmd_classification', 'filename_of_origin']).size()"
   ]
  },
  {
   "cell_type": "code",
   "execution_count": 8,
   "metadata": {
    "collapsed": false
   },
   "outputs": [
    {
     "data": {
      "text/plain": [
       "nmd_classification\n",
       "Exclusion causes NMD (annotated)             51\n",
       "Exclusion causes NMD (found stop codon)      19\n",
       "Exon not found                              667\n",
       "Inclusion causes NMD (annotated)             58\n",
       "Inclusion causes NMD (found stop codon)      23\n",
       "Splicing not known to cause NMD            1585\n",
       "dtype: int64"
      ]
     },
     "execution_count": 8,
     "metadata": {},
     "output_type": "execute_result"
    }
   ],
   "source": [
    "size = all_nmd_targets['nmd_classification'].groupby(all_nmd_targets['nmd_classification'].astype(str)).size()\n",
    "size"
   ]
  },
  {
   "cell_type": "code",
   "execution_count": 9,
   "metadata": {
    "collapsed": false
   },
   "outputs": [
    {
     "data": {
      "text/plain": [
       "nmd_classification\n",
       "Exclusion causes NMD (annotated)            2.122347\n",
       "Exclusion causes NMD (found stop codon)     0.790678\n",
       "Exon not found                             27.756970\n",
       "Inclusion causes NMD (annotated)            2.413650\n",
       "Inclusion causes NMD (found stop codon)     0.957137\n",
       "Splicing not known to cause NMD            65.959218\n",
       "dtype: float64"
      ]
     },
     "execution_count": 9,
     "metadata": {},
     "output_type": "execute_result"
    }
   ],
   "source": [
    "size/size.sum()*100"
   ]
  },
  {
   "cell_type": "code",
   "execution_count": 10,
   "metadata": {
    "collapsed": false
   },
   "outputs": [
    {
     "name": "stdout",
     "output_type": "stream",
     "text": [
      "(742, 3)\n"
     ]
    },
    {
     "data": {
      "text/html": [
       "<div>\n",
       "<table border=\"1\" class=\"dataframe\">\n",
       "  <thead>\n",
       "    <tr style=\"text-align: right;\">\n",
       "      <th></th>\n",
       "      <th>exon_id</th>\n",
       "      <th>filename_of_origin</th>\n",
       "      <th>nmd_classification</th>\n",
       "    </tr>\n",
       "  </thead>\n",
       "  <tbody>\n",
       "    <tr>\n",
       "      <th>1</th>\n",
       "      <td>exon:chr10:101935702-101935827:-</td>\n",
       "      <td>UPF1_K562_SE.MATS.JunctionCountOnly_targets.csv</td>\n",
       "      <td>Splicing not known to cause NMD</td>\n",
       "    </tr>\n",
       "    <tr>\n",
       "      <th>4</th>\n",
       "      <td>exon:chr10:103343345-103343438:-</td>\n",
       "      <td>UPF1_K562_SE.MATS.JunctionCountOnly_targets.csv</td>\n",
       "      <td>Exon not found</td>\n",
       "    </tr>\n",
       "    <tr>\n",
       "      <th>6</th>\n",
       "      <td>exon:chr10:103344635-103344676:-</td>\n",
       "      <td>UPF1_K562_SE.MATS.JunctionCountOnly_targets.csv</td>\n",
       "      <td>Splicing not known to cause NMD</td>\n",
       "    </tr>\n",
       "    <tr>\n",
       "      <th>9</th>\n",
       "      <td>exon:chr10:103553443-103553501:-</td>\n",
       "      <td>UPF1_K562_SE.MATS.JunctionCountOnly_targets.csv</td>\n",
       "      <td>Splicing not known to cause NMD</td>\n",
       "    </tr>\n",
       "    <tr>\n",
       "      <th>12</th>\n",
       "      <td>exon:chr10:103904007-103904064:+</td>\n",
       "      <td>UPF1_K562_SE.MATS.JunctionCountOnly_targets.csv</td>\n",
       "      <td>Splicing not known to cause NMD</td>\n",
       "    </tr>\n",
       "  </tbody>\n",
       "</table>\n",
       "</div>"
      ],
      "text/plain": [
       "                             exon_id  \\\n",
       "1   exon:chr10:101935702-101935827:-   \n",
       "4   exon:chr10:103343345-103343438:-   \n",
       "6   exon:chr10:103344635-103344676:-   \n",
       "9   exon:chr10:103553443-103553501:-   \n",
       "12  exon:chr10:103904007-103904064:+   \n",
       "\n",
       "                                 filename_of_origin  \\\n",
       "1   UPF1_K562_SE.MATS.JunctionCountOnly_targets.csv   \n",
       "4   UPF1_K562_SE.MATS.JunctionCountOnly_targets.csv   \n",
       "6   UPF1_K562_SE.MATS.JunctionCountOnly_targets.csv   \n",
       "9   UPF1_K562_SE.MATS.JunctionCountOnly_targets.csv   \n",
       "12  UPF1_K562_SE.MATS.JunctionCountOnly_targets.csv   \n",
       "\n",
       "                 nmd_classification  \n",
       "1   Splicing not known to cause NMD  \n",
       "4                    Exon not found  \n",
       "6   Splicing not known to cause NMD  \n",
       "9   Splicing not known to cause NMD  \n",
       "12  Splicing not known to cause NMD  "
      ]
     },
     "execution_count": 10,
     "metadata": {},
     "output_type": "execute_result"
    }
   ],
   "source": [
    "rows = all_nmd_targets['filename_of_origin'].str.contains('UPF1_K562_SE.MATS.JunctionCountOnly')\n",
    "rmats_junction_nmd_targets = all_nmd_targets.loc[rows]\n",
    "print(rmats_junction_nmd_targets.shape)\n",
    "rmats_junction_nmd_targets.head()"
   ]
  },
  {
   "cell_type": "code",
   "execution_count": 11,
   "metadata": {
    "collapsed": false
   },
   "outputs": [
    {
     "name": "stdout",
     "output_type": "stream",
     "text": [
      "12\n"
     ]
    },
    {
     "data": {
      "text/html": [
       "<div>\n",
       "<table border=\"1\" class=\"dataframe\">\n",
       "  <thead>\n",
       "    <tr style=\"text-align: right;\">\n",
       "      <th></th>\n",
       "      <th>nmd_classification</th>\n",
       "      <th>counts</th>\n",
       "    </tr>\n",
       "  </thead>\n",
       "  <tbody>\n",
       "    <tr>\n",
       "      <th>0</th>\n",
       "      <td>Exclusion causes NMD (annotated)</td>\n",
       "      <td>11</td>\n",
       "    </tr>\n",
       "    <tr>\n",
       "      <th>1</th>\n",
       "      <td>Exclusion causes NMD (found stop codon)</td>\n",
       "      <td>3</td>\n",
       "    </tr>\n",
       "    <tr>\n",
       "      <th>2</th>\n",
       "      <td>Exon not found</td>\n",
       "      <td>334</td>\n",
       "    </tr>\n",
       "    <tr>\n",
       "      <th>3</th>\n",
       "      <td>Inclusion causes NMD (annotated)</td>\n",
       "      <td>9</td>\n",
       "    </tr>\n",
       "    <tr>\n",
       "      <th>4</th>\n",
       "      <td>Inclusion causes NMD (found stop codon)</td>\n",
       "      <td>5</td>\n",
       "    </tr>\n",
       "  </tbody>\n",
       "</table>\n",
       "</div>"
      ],
      "text/plain": [
       "                        nmd_classification  counts\n",
       "0         Exclusion causes NMD (annotated)      11\n",
       "1  Exclusion causes NMD (found stop codon)       3\n",
       "2                           Exon not found     334\n",
       "3         Inclusion causes NMD (annotated)       9\n",
       "4  Inclusion causes NMD (found stop codon)       5"
      ]
     },
     "execution_count": 11,
     "metadata": {},
     "output_type": "execute_result"
    }
   ],
   "source": [
    "rmats_counts = rmats_junction_nmd_targets.groupby(['nmd_classification']).size().reset_index()\n",
    "rmats_counts = rmats_counts.rename(columns={0:\"counts\"})\n",
    "print(rmats_counts.size)\n",
    "rmats_counts.head()"
   ]
  },
  {
   "cell_type": "code",
   "execution_count": 12,
   "metadata": {
    "collapsed": true
   },
   "outputs": [],
   "source": [
    "sns.set(context=\"paper\", style=\"whitegrid\")"
   ]
  },
  {
   "cell_type": "code",
   "execution_count": 13,
   "metadata": {
    "collapsed": false
   },
   "outputs": [
    {
     "data": {
      "image/png": "[encoded data removed]",
      "text/plain": [
       "<matplotlib.figure.Figure at 0x1134756a0>"
      ]
     },
     "metadata": {},
     "output_type": "display_data"
    }
   ],
   "source": [
    "fig, ax = plt.subplots(figsize=(5, 2))\n",
    "ax = sns.barplot(y=\"nmd_classification\", x=\"counts\", data=rmats_counts)\n",
    "ax.set(xlabel=\"counts\", ylabel=\"nmd classification\")\n",
    "fig.tight_layout()\n",
    "png = os.path.join(figure_folder, \"UPF1_KD_K562.png\")\n",
    "fig.savefig(png, dpi=300)"
   ]
  },
  {
   "cell_type": "code",
   "execution_count": 25,
   "metadata": {
    "collapsed": false
   },
   "outputs": [
    {
     "data": {
      "text/html": [
       "<div>\n",
       "<table border=\"1\" class=\"dataframe\">\n",
       "  <thead>\n",
       "    <tr style=\"text-align: right;\">\n",
       "      <th></th>\n",
       "      <th>exon_id</th>\n",
       "      <th>filename_of_origin</th>\n",
       "      <th>nmd_classification</th>\n",
       "    </tr>\n",
       "  </thead>\n",
       "  <tbody>\n",
       "    <tr>\n",
       "      <th>116</th>\n",
       "      <td>exon:chr11:112100931-112100953:+</td>\n",
       "      <td>UPF1_K562_SE.MATS.JunctionCountOnly_targets.csv</td>\n",
       "      <td>Exclusion causes NMD (annotated)</td>\n",
       "    </tr>\n",
       "    <tr>\n",
       "      <th>260</th>\n",
       "      <td>exon:chr12:100657275-100657671:-</td>\n",
       "      <td>UPF1_K562_SE.MATS.JunctionCountOnly_targets.csv</td>\n",
       "      <td>Exclusion causes NMD (annotated)</td>\n",
       "    </tr>\n",
       "    <tr>\n",
       "      <th>548</th>\n",
       "      <td>exon:chr15:81615240-81615289:-</td>\n",
       "      <td>UPF1_K562_SE.MATS.JunctionCountOnly_targets.csv</td>\n",
       "      <td>Exclusion causes NMD (annotated)</td>\n",
       "    </tr>\n",
       "    <tr>\n",
       "      <th>554</th>\n",
       "      <td>exon:chr15:85632569-85632647:+</td>\n",
       "      <td>UPF1_K562_SE.MATS.JunctionCountOnly_targets.csv</td>\n",
       "      <td>Exclusion causes NMD (annotated)</td>\n",
       "    </tr>\n",
       "    <tr>\n",
       "      <th>614</th>\n",
       "      <td>exon:chr16:4774751-4774832:-</td>\n",
       "      <td>UPF1_K562_SE.MATS.JunctionCountOnly_targets.csv</td>\n",
       "      <td>Exclusion causes NMD (annotated)</td>\n",
       "    </tr>\n",
       "    <tr>\n",
       "      <th>995</th>\n",
       "      <td>exon:chr19:9768685-9768811:-</td>\n",
       "      <td>UPF1_K562_SE.MATS.JunctionCountOnly_targets.csv</td>\n",
       "      <td>Exclusion causes NMD (annotated)</td>\n",
       "    </tr>\n",
       "    <tr>\n",
       "      <th>1240</th>\n",
       "      <td>exon:chr1:76194074-76194173:+</td>\n",
       "      <td>UPF1_K562_SE.MATS.JunctionCountOnly_targets.csv</td>\n",
       "      <td>Exclusion causes NMD (annotated)</td>\n",
       "    </tr>\n",
       "    <tr>\n",
       "      <th>1241</th>\n",
       "      <td>exon:chr1:76194086-76194173:+</td>\n",
       "      <td>UPF1_K562_SE.MATS.JunctionCountOnly_targets.csv</td>\n",
       "      <td>Exclusion causes NMD (annotated)</td>\n",
       "    </tr>\n",
       "    <tr>\n",
       "      <th>1781</th>\n",
       "      <td>exon:chr4:17493855-17493963:-</td>\n",
       "      <td>UPF1_K562_SE.MATS.JunctionCountOnly_targets.csv</td>\n",
       "      <td>Exclusion causes NMD (annotated)</td>\n",
       "    </tr>\n",
       "    <tr>\n",
       "      <th>2099</th>\n",
       "      <td>exon:chr7:2608588-2608633:+</td>\n",
       "      <td>UPF1_K562_SE.MATS.JunctionCountOnly_targets.csv</td>\n",
       "      <td>Exclusion causes NMD (annotated)</td>\n",
       "    </tr>\n",
       "    <tr>\n",
       "      <th>2203</th>\n",
       "      <td>exon:chr8:21769412-21769499:-</td>\n",
       "      <td>UPF1_K562_SE.MATS.JunctionCountOnly_targets.csv</td>\n",
       "      <td>Exclusion causes NMD (annotated)</td>\n",
       "    </tr>\n",
       "  </tbody>\n",
       "</table>\n",
       "</div>"
      ],
      "text/plain": [
       "                               exon_id  \\\n",
       "116   exon:chr11:112100931-112100953:+   \n",
       "260   exon:chr12:100657275-100657671:-   \n",
       "548     exon:chr15:81615240-81615289:-   \n",
       "554     exon:chr15:85632569-85632647:+   \n",
       "614       exon:chr16:4774751-4774832:-   \n",
       "995       exon:chr19:9768685-9768811:-   \n",
       "1240     exon:chr1:76194074-76194173:+   \n",
       "1241     exon:chr1:76194086-76194173:+   \n",
       "1781     exon:chr4:17493855-17493963:-   \n",
       "2099       exon:chr7:2608588-2608633:+   \n",
       "2203     exon:chr8:21769412-21769499:-   \n",
       "\n",
       "                                   filename_of_origin  \\\n",
       "116   UPF1_K562_SE.MATS.JunctionCountOnly_targets.csv   \n",
       "260   UPF1_K562_SE.MATS.JunctionCountOnly_targets.csv   \n",
       "548   UPF1_K562_SE.MATS.JunctionCountOnly_targets.csv   \n",
       "554   UPF1_K562_SE.MATS.JunctionCountOnly_targets.csv   \n",
       "614   UPF1_K562_SE.MATS.JunctionCountOnly_targets.csv   \n",
       "995   UPF1_K562_SE.MATS.JunctionCountOnly_targets.csv   \n",
       "1240  UPF1_K562_SE.MATS.JunctionCountOnly_targets.csv   \n",
       "1241  UPF1_K562_SE.MATS.JunctionCountOnly_targets.csv   \n",
       "1781  UPF1_K562_SE.MATS.JunctionCountOnly_targets.csv   \n",
       "2099  UPF1_K562_SE.MATS.JunctionCountOnly_targets.csv   \n",
       "2203  UPF1_K562_SE.MATS.JunctionCountOnly_targets.csv   \n",
       "\n",
       "                    nmd_classification  \n",
       "116   Exclusion causes NMD (annotated)  \n",
       "260   Exclusion causes NMD (annotated)  \n",
       "548   Exclusion causes NMD (annotated)  \n",
       "554   Exclusion causes NMD (annotated)  \n",
       "614   Exclusion causes NMD (annotated)  \n",
       "995   Exclusion causes NMD (annotated)  \n",
       "1240  Exclusion causes NMD (annotated)  \n",
       "1241  Exclusion causes NMD (annotated)  \n",
       "1781  Exclusion causes NMD (annotated)  \n",
       "2099  Exclusion causes NMD (annotated)  \n",
       "2203  Exclusion causes NMD (annotated)  "
      ]
     },
     "execution_count": 25,
     "metadata": {},
     "output_type": "execute_result"
    }
   ],
   "source": [
    "rmats_junction_nmd_targets.query('nmd_classification == \"Exclusion causes NMD (annotated)\"')"
   ]
  },
  {
   "cell_type": "code",
   "execution_count": 15,
   "metadata": {
    "collapsed": false
   },
   "outputs": [
    {
     "data": {
      "text/html": [
       "<div>\n",
       "<table border=\"1\" class=\"dataframe\">\n",
       "  <thead>\n",
       "    <tr style=\"text-align: right;\">\n",
       "      <th></th>\n",
       "      <th>exon_id</th>\n",
       "      <th>filename_of_origin</th>\n",
       "      <th>nmd_classification</th>\n",
       "    </tr>\n",
       "  </thead>\n",
       "  <tbody>\n",
       "    <tr>\n",
       "      <th>61</th>\n",
       "      <td>exon:chr10:35490379-35490414:+</td>\n",
       "      <td>UPF1_K562_SE.MATS.JunctionCountOnly_targets.csv</td>\n",
       "      <td>Exclusion causes NMD (found stop codon)</td>\n",
       "    </tr>\n",
       "    <tr>\n",
       "      <th>993</th>\n",
       "      <td>exon:chr19:9738392-9738482:+</td>\n",
       "      <td>UPF1_K562_SE.MATS.JunctionCountOnly_targets.csv</td>\n",
       "      <td>Exclusion causes NMD (found stop codon)</td>\n",
       "    </tr>\n",
       "    <tr>\n",
       "      <th>1639</th>\n",
       "      <td>exon:chr3:13524964-13525064:+</td>\n",
       "      <td>UPF1_K562_SE.MATS.JunctionCountOnly_targets.csv</td>\n",
       "      <td>Exclusion causes NMD (found stop codon)</td>\n",
       "    </tr>\n",
       "  </tbody>\n",
       "</table>\n",
       "</div>"
      ],
      "text/plain": [
       "                             exon_id  \\\n",
       "61    exon:chr10:35490379-35490414:+   \n",
       "993     exon:chr19:9738392-9738482:+   \n",
       "1639   exon:chr3:13524964-13525064:+   \n",
       "\n",
       "                                   filename_of_origin  \\\n",
       "61    UPF1_K562_SE.MATS.JunctionCountOnly_targets.csv   \n",
       "993   UPF1_K562_SE.MATS.JunctionCountOnly_targets.csv   \n",
       "1639  UPF1_K562_SE.MATS.JunctionCountOnly_targets.csv   \n",
       "\n",
       "                           nmd_classification  \n",
       "61    Exclusion causes NMD (found stop codon)  \n",
       "993   Exclusion causes NMD (found stop codon)  \n",
       "1639  Exclusion causes NMD (found stop codon)  "
      ]
     },
     "execution_count": 15,
     "metadata": {},
     "output_type": "execute_result"
    }
   ],
   "source": [
    "rmats_junction_nmd_targets.query('nmd_classification == \"Exclusion causes NMD (found stop codon)\"')"
   ]
  },
  {
   "cell_type": "code",
   "execution_count": 16,
   "metadata": {
    "collapsed": false
   },
   "outputs": [
    {
     "data": {
      "text/html": [
       "<div>\n",
       "<table border=\"1\" class=\"dataframe\">\n",
       "  <thead>\n",
       "    <tr style=\"text-align: right;\">\n",
       "      <th></th>\n",
       "      <th>exon_id</th>\n",
       "      <th>filename_of_origin</th>\n",
       "      <th>nmd_classification</th>\n",
       "    </tr>\n",
       "  </thead>\n",
       "  <tbody>\n",
       "    <tr>\n",
       "      <th>181</th>\n",
       "      <td>exon:chr11:533277-533358:-</td>\n",
       "      <td>UPF1_K562_SE.MATS.JunctionCountOnly_targets.csv</td>\n",
       "      <td>Inclusion causes NMD (annotated)</td>\n",
       "    </tr>\n",
       "    <tr>\n",
       "      <th>235</th>\n",
       "      <td>exon:chr11:71673198-71673335:+</td>\n",
       "      <td>UPF1_K562_SE.MATS.JunctionCountOnly_targets.csv</td>\n",
       "      <td>Inclusion causes NMD (annotated)</td>\n",
       "    </tr>\n",
       "    <tr>\n",
       "      <th>251</th>\n",
       "      <td>exon:chr11:86037555-86037718:+</td>\n",
       "      <td>UPF1_K562_SE.MATS.JunctionCountOnly_targets.csv</td>\n",
       "      <td>Inclusion causes NMD (annotated)</td>\n",
       "    </tr>\n",
       "    <tr>\n",
       "      <th>379</th>\n",
       "      <td>exon:chr12:94253095-94253218:+</td>\n",
       "      <td>UPF1_K562_SE.MATS.JunctionCountOnly_targets.csv</td>\n",
       "      <td>Inclusion causes NMD (annotated)</td>\n",
       "    </tr>\n",
       "    <tr>\n",
       "      <th>1659</th>\n",
       "      <td>exon:chr3:16313652-16313828:+</td>\n",
       "      <td>UPF1_K562_SE.MATS.JunctionCountOnly_targets.csv</td>\n",
       "      <td>Inclusion causes NMD (annotated)</td>\n",
       "    </tr>\n",
       "    <tr>\n",
       "      <th>1785</th>\n",
       "      <td>exon:chr4:1913818-1913921:+</td>\n",
       "      <td>UPF1_K562_SE.MATS.JunctionCountOnly_targets.csv</td>\n",
       "      <td>Inclusion causes NMD (annotated)</td>\n",
       "    </tr>\n",
       "    <tr>\n",
       "      <th>1907</th>\n",
       "      <td>exon:chr5:6644921-6645422:+</td>\n",
       "      <td>UPF1_K562_SE.MATS.JunctionCountOnly_targets.csv</td>\n",
       "      <td>Inclusion causes NMD (annotated)</td>\n",
       "    </tr>\n",
       "    <tr>\n",
       "      <th>2009</th>\n",
       "      <td>exon:chr6:36446898-36447000:+</td>\n",
       "      <td>UPF1_K562_SE.MATS.JunctionCountOnly_targets.csv</td>\n",
       "      <td>Inclusion causes NMD (annotated)</td>\n",
       "    </tr>\n",
       "    <tr>\n",
       "      <th>2111</th>\n",
       "      <td>exon:chr7:33075546-33075600:-</td>\n",
       "      <td>UPF1_K562_SE.MATS.JunctionCountOnly_targets.csv</td>\n",
       "      <td>Inclusion causes NMD (annotated)</td>\n",
       "    </tr>\n",
       "  </tbody>\n",
       "</table>\n",
       "</div>"
      ],
      "text/plain": [
       "                             exon_id  \\\n",
       "181       exon:chr11:533277-533358:-   \n",
       "235   exon:chr11:71673198-71673335:+   \n",
       "251   exon:chr11:86037555-86037718:+   \n",
       "379   exon:chr12:94253095-94253218:+   \n",
       "1659   exon:chr3:16313652-16313828:+   \n",
       "1785     exon:chr4:1913818-1913921:+   \n",
       "1907     exon:chr5:6644921-6645422:+   \n",
       "2009   exon:chr6:36446898-36447000:+   \n",
       "2111   exon:chr7:33075546-33075600:-   \n",
       "\n",
       "                                   filename_of_origin  \\\n",
       "181   UPF1_K562_SE.MATS.JunctionCountOnly_targets.csv   \n",
       "235   UPF1_K562_SE.MATS.JunctionCountOnly_targets.csv   \n",
       "251   UPF1_K562_SE.MATS.JunctionCountOnly_targets.csv   \n",
       "379   UPF1_K562_SE.MATS.JunctionCountOnly_targets.csv   \n",
       "1659  UPF1_K562_SE.MATS.JunctionCountOnly_targets.csv   \n",
       "1785  UPF1_K562_SE.MATS.JunctionCountOnly_targets.csv   \n",
       "1907  UPF1_K562_SE.MATS.JunctionCountOnly_targets.csv   \n",
       "2009  UPF1_K562_SE.MATS.JunctionCountOnly_targets.csv   \n",
       "2111  UPF1_K562_SE.MATS.JunctionCountOnly_targets.csv   \n",
       "\n",
       "                    nmd_classification  \n",
       "181   Inclusion causes NMD (annotated)  \n",
       "235   Inclusion causes NMD (annotated)  \n",
       "251   Inclusion causes NMD (annotated)  \n",
       "379   Inclusion causes NMD (annotated)  \n",
       "1659  Inclusion causes NMD (annotated)  \n",
       "1785  Inclusion causes NMD (annotated)  \n",
       "1907  Inclusion causes NMD (annotated)  \n",
       "2009  Inclusion causes NMD (annotated)  \n",
       "2111  Inclusion causes NMD (annotated)  "
      ]
     },
     "execution_count": 16,
     "metadata": {},
     "output_type": "execute_result"
    }
   ],
   "source": [
    "rmats_junction_nmd_targets.query('nmd_classification == \"Inclusion causes NMD (annotated)\"')"
   ]
  },
  {
   "cell_type": "code",
   "execution_count": 17,
   "metadata": {
    "collapsed": false
   },
   "outputs": [
    {
     "data": {
      "text/html": [
       "<div>\n",
       "<table border=\"1\" class=\"dataframe\">\n",
       "  <thead>\n",
       "    <tr style=\"text-align: right;\">\n",
       "      <th></th>\n",
       "      <th>exon_id</th>\n",
       "      <th>filename_of_origin</th>\n",
       "      <th>nmd_classification</th>\n",
       "    </tr>\n",
       "  </thead>\n",
       "  <tbody>\n",
       "    <tr>\n",
       "      <th>198</th>\n",
       "      <td>exon:chr11:59992438-59992566:-</td>\n",
       "      <td>UPF1_K562_SE.MATS.JunctionCountOnly_targets.csv</td>\n",
       "      <td>Inclusion causes NMD (found stop codon)</td>\n",
       "    </tr>\n",
       "    <tr>\n",
       "      <th>279</th>\n",
       "      <td>exon:chr12:111057641-111057761:+</td>\n",
       "      <td>UPF1_K562_SE.MATS.JunctionCountOnly_targets.csv</td>\n",
       "      <td>Inclusion causes NMD (found stop codon)</td>\n",
       "    </tr>\n",
       "    <tr>\n",
       "      <th>427</th>\n",
       "      <td>exon:chr14:102744943-102745031:-</td>\n",
       "      <td>UPF1_K562_SE.MATS.JunctionCountOnly_targets.csv</td>\n",
       "      <td>Inclusion causes NMD (found stop codon)</td>\n",
       "    </tr>\n",
       "    <tr>\n",
       "      <th>702</th>\n",
       "      <td>exon:chr17:36916761-36916861:+</td>\n",
       "      <td>UPF1_K562_SE.MATS.JunctionCountOnly_targets.csv</td>\n",
       "      <td>Inclusion causes NMD (found stop codon)</td>\n",
       "    </tr>\n",
       "    <tr>\n",
       "      <th>2008</th>\n",
       "      <td>exon:chr6:36442566-36442839:+</td>\n",
       "      <td>UPF1_K562_SE.MATS.JunctionCountOnly_targets.csv</td>\n",
       "      <td>Inclusion causes NMD (found stop codon)</td>\n",
       "    </tr>\n",
       "  </tbody>\n",
       "</table>\n",
       "</div>"
      ],
      "text/plain": [
       "                               exon_id  \\\n",
       "198     exon:chr11:59992438-59992566:-   \n",
       "279   exon:chr12:111057641-111057761:+   \n",
       "427   exon:chr14:102744943-102745031:-   \n",
       "702     exon:chr17:36916761-36916861:+   \n",
       "2008     exon:chr6:36442566-36442839:+   \n",
       "\n",
       "                                   filename_of_origin  \\\n",
       "198   UPF1_K562_SE.MATS.JunctionCountOnly_targets.csv   \n",
       "279   UPF1_K562_SE.MATS.JunctionCountOnly_targets.csv   \n",
       "427   UPF1_K562_SE.MATS.JunctionCountOnly_targets.csv   \n",
       "702   UPF1_K562_SE.MATS.JunctionCountOnly_targets.csv   \n",
       "2008  UPF1_K562_SE.MATS.JunctionCountOnly_targets.csv   \n",
       "\n",
       "                           nmd_classification  \n",
       "198   Inclusion causes NMD (found stop codon)  \n",
       "279   Inclusion causes NMD (found stop codon)  \n",
       "427   Inclusion causes NMD (found stop codon)  \n",
       "702   Inclusion causes NMD (found stop codon)  \n",
       "2008  Inclusion causes NMD (found stop codon)  "
      ]
     },
     "execution_count": 17,
     "metadata": {},
     "output_type": "execute_result"
    }
   ],
   "source": [
    "rmats_junction_nmd_targets.query('nmd_classification == \"Inclusion causes NMD (found stop codon)\"')"
   ]
  },
  {
   "cell_type": "code",
   "execution_count": null,
   "metadata": {
    "collapsed": true
   },
   "outputs": [],
   "source": []
  }
 ],
 "metadata": {
  "kernelspec": {
   "display_name": "Python 3",
   "language": "python",
   "name": "python3"
  },
  "language_info": {
   "codemirror_mode": {
    "name": "ipython",
    "version": 3
   },
   "file_extension": ".py",
   "mimetype": "text/x-python",
   "name": "python",
   "nbconvert_exporter": "python",
   "pygments_lexer": "ipython3",
   "version": "3.5.3"
  }
 },
 "nbformat": 4,
 "nbformat_minor": 0
}
